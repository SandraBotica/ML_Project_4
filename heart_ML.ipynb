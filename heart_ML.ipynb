{
 "cells": [
  {
   "cell_type": "code",
   "execution_count": 4718,
   "metadata": {},
   "outputs": [],
   "source": [
    "# Import dependencies\n",
    "import pandas as pd\n",
    "import hvplot.pandas\n",
    "import numpy as np\n",
    "import os\n",
    "import matplotlib.pyplot as plt\n",
    "import seaborn as sns\n",
    "import sklearn.metrics as metrics\n",
    "\n",
    "from sklearn.metrics import balanced_accuracy_score, accuracy_score, confusion_matrix, classification_report\n",
    "from sklearn.model_selection import train_test_split\n",
    "from sklearn.linear_model import LogisticRegression\n",
    "from sklearn.preprocessing import StandardScaler, OneHotEncoder\n",
    "from sklearn.decomposition import IncrementalPCA\n",
    "from sklearn.decomposition import PCA\n",
    "from sklearn.cluster import KMeans\n",
    "from sklearn.ensemble import RandomForestClassifier\n",
    "from sklearn.neighbors import KNeighborsClassifier\n",
    "from sklearn.svm import SVC\n",
    "from sklearn.feature_selection import SelectKBest, f_classif\n",
    "from sklearn.model_selection import GridSearchCV\n"
   ]
  },
  {
   "attachments": {},
   "cell_type": "markdown",
   "metadata": {},
   "source": [
    "### Read the `heart.csv` data from the `Resources` folder into a Pandas DataFrame."
   ]
  },
  {
   "cell_type": "code",
   "execution_count": 4719,
   "metadata": {},
   "outputs": [
    {
     "data": {
      "text/html": [
       "<div>\n",
       "<style scoped>\n",
       "    .dataframe tbody tr th:only-of-type {\n",
       "        vertical-align: middle;\n",
       "    }\n",
       "\n",
       "    .dataframe tbody tr th {\n",
       "        vertical-align: top;\n",
       "    }\n",
       "\n",
       "    .dataframe thead th {\n",
       "        text-align: right;\n",
       "    }\n",
       "</style>\n",
       "<table border=\"1\" class=\"dataframe\">\n",
       "  <thead>\n",
       "    <tr style=\"text-align: right;\">\n",
       "      <th></th>\n",
       "      <th>age</th>\n",
       "      <th>sex</th>\n",
       "      <th>cp</th>\n",
       "      <th>trtbps</th>\n",
       "      <th>chol</th>\n",
       "      <th>fbs</th>\n",
       "      <th>restecg</th>\n",
       "      <th>thalachh</th>\n",
       "      <th>exng</th>\n",
       "      <th>oldpeak</th>\n",
       "      <th>slp</th>\n",
       "      <th>caa</th>\n",
       "      <th>thall</th>\n",
       "      <th>output</th>\n",
       "    </tr>\n",
       "  </thead>\n",
       "  <tbody>\n",
       "    <tr>\n",
       "      <th>0</th>\n",
       "      <td>63</td>\n",
       "      <td>1</td>\n",
       "      <td>3</td>\n",
       "      <td>145</td>\n",
       "      <td>233</td>\n",
       "      <td>1</td>\n",
       "      <td>0</td>\n",
       "      <td>150</td>\n",
       "      <td>0</td>\n",
       "      <td>2.3</td>\n",
       "      <td>0</td>\n",
       "      <td>0</td>\n",
       "      <td>1</td>\n",
       "      <td>1</td>\n",
       "    </tr>\n",
       "    <tr>\n",
       "      <th>1</th>\n",
       "      <td>37</td>\n",
       "      <td>1</td>\n",
       "      <td>2</td>\n",
       "      <td>130</td>\n",
       "      <td>250</td>\n",
       "      <td>0</td>\n",
       "      <td>1</td>\n",
       "      <td>187</td>\n",
       "      <td>0</td>\n",
       "      <td>3.5</td>\n",
       "      <td>0</td>\n",
       "      <td>0</td>\n",
       "      <td>2</td>\n",
       "      <td>1</td>\n",
       "    </tr>\n",
       "  </tbody>\n",
       "</table>\n",
       "</div>"
      ],
      "text/plain": [
       "   age  sex  cp  trtbps  chol  fbs  restecg  thalachh  exng  oldpeak  slp  \\\n",
       "0   63    1   3     145   233    1        0       150     0      2.3    0   \n",
       "1   37    1   2     130   250    0        1       187     0      3.5    0   \n",
       "\n",
       "   caa  thall  output  \n",
       "0    0      1       1  \n",
       "1    0      2       1  "
      ]
     },
     "execution_count": 4719,
     "metadata": {},
     "output_type": "execute_result"
    }
   ],
   "source": [
    "# Reading in the heart.csv file\n",
    "file_path = r'/Users/sandrabotica/Desktop/ML_Project_4/Resources/heart.csv'\n",
    "# file_path = 'Resources/heart.csv'\n",
    "# data = Path('Resources/heart.csv')\n",
    "heart_df = pd.read_csv(file_path)\n",
    "heart_df.head(2)"
   ]
  },
  {
   "attachments": {},
   "cell_type": "markdown",
   "metadata": {},
   "source": [
    "### Data exploration"
   ]
  },
  {
   "cell_type": "code",
   "execution_count": 4720,
   "metadata": {},
   "outputs": [
    {
     "name": "stdout",
     "output_type": "stream",
     "text": [
      "<class 'pandas.core.frame.DataFrame'>\n",
      "RangeIndex: 303 entries, 0 to 302\n",
      "Data columns (total 14 columns):\n",
      " #   Column    Non-Null Count  Dtype  \n",
      "---  ------    --------------  -----  \n",
      " 0   age       303 non-null    int64  \n",
      " 1   sex       303 non-null    int64  \n",
      " 2   cp        303 non-null    int64  \n",
      " 3   trtbps    303 non-null    int64  \n",
      " 4   chol      303 non-null    int64  \n",
      " 5   fbs       303 non-null    int64  \n",
      " 6   restecg   303 non-null    int64  \n",
      " 7   thalachh  303 non-null    int64  \n",
      " 8   exng      303 non-null    int64  \n",
      " 9   oldpeak   303 non-null    float64\n",
      " 10  slp       303 non-null    int64  \n",
      " 11  caa       303 non-null    int64  \n",
      " 12  thall     303 non-null    int64  \n",
      " 13  output    303 non-null    int64  \n",
      "dtypes: float64(1), int64(13)\n",
      "memory usage: 33.3 KB\n"
     ]
    }
   ],
   "source": [
    "# Checking datatypes, row number, column number and if any null values\n",
    "heart_df.info()"
   ]
  },
  {
   "cell_type": "code",
   "execution_count": 4721,
   "metadata": {},
   "outputs": [
    {
     "data": {
      "text/html": [
       "<div>\n",
       "<style scoped>\n",
       "    .dataframe tbody tr th:only-of-type {\n",
       "        vertical-align: middle;\n",
       "    }\n",
       "\n",
       "    .dataframe tbody tr th {\n",
       "        vertical-align: top;\n",
       "    }\n",
       "\n",
       "    .dataframe thead th {\n",
       "        text-align: right;\n",
       "    }\n",
       "</style>\n",
       "<table border=\"1\" class=\"dataframe\">\n",
       "  <thead>\n",
       "    <tr style=\"text-align: right;\">\n",
       "      <th></th>\n",
       "      <th>age</th>\n",
       "      <th>sex</th>\n",
       "      <th>cp</th>\n",
       "      <th>trtbps</th>\n",
       "      <th>chol</th>\n",
       "      <th>fbs</th>\n",
       "      <th>restecg</th>\n",
       "      <th>thalachh</th>\n",
       "      <th>exng</th>\n",
       "      <th>oldpeak</th>\n",
       "      <th>slp</th>\n",
       "      <th>caa</th>\n",
       "      <th>thall</th>\n",
       "      <th>output</th>\n",
       "    </tr>\n",
       "  </thead>\n",
       "  <tbody>\n",
       "    <tr>\n",
       "      <th>count</th>\n",
       "      <td>303.000000</td>\n",
       "      <td>303.000000</td>\n",
       "      <td>303.000000</td>\n",
       "      <td>303.000000</td>\n",
       "      <td>303.000000</td>\n",
       "      <td>303.000000</td>\n",
       "      <td>303.000000</td>\n",
       "      <td>303.000000</td>\n",
       "      <td>303.000000</td>\n",
       "      <td>303.000000</td>\n",
       "      <td>303.000000</td>\n",
       "      <td>303.000000</td>\n",
       "      <td>303.000000</td>\n",
       "      <td>303.000000</td>\n",
       "    </tr>\n",
       "    <tr>\n",
       "      <th>mean</th>\n",
       "      <td>54.366337</td>\n",
       "      <td>0.683168</td>\n",
       "      <td>0.966997</td>\n",
       "      <td>131.623762</td>\n",
       "      <td>246.264026</td>\n",
       "      <td>0.148515</td>\n",
       "      <td>0.528053</td>\n",
       "      <td>149.646865</td>\n",
       "      <td>0.326733</td>\n",
       "      <td>1.039604</td>\n",
       "      <td>1.399340</td>\n",
       "      <td>0.729373</td>\n",
       "      <td>2.313531</td>\n",
       "      <td>0.544554</td>\n",
       "    </tr>\n",
       "    <tr>\n",
       "      <th>std</th>\n",
       "      <td>9.082101</td>\n",
       "      <td>0.466011</td>\n",
       "      <td>1.032052</td>\n",
       "      <td>17.538143</td>\n",
       "      <td>51.830751</td>\n",
       "      <td>0.356198</td>\n",
       "      <td>0.525860</td>\n",
       "      <td>22.905161</td>\n",
       "      <td>0.469794</td>\n",
       "      <td>1.161075</td>\n",
       "      <td>0.616226</td>\n",
       "      <td>1.022606</td>\n",
       "      <td>0.612277</td>\n",
       "      <td>0.498835</td>\n",
       "    </tr>\n",
       "    <tr>\n",
       "      <th>min</th>\n",
       "      <td>29.000000</td>\n",
       "      <td>0.000000</td>\n",
       "      <td>0.000000</td>\n",
       "      <td>94.000000</td>\n",
       "      <td>126.000000</td>\n",
       "      <td>0.000000</td>\n",
       "      <td>0.000000</td>\n",
       "      <td>71.000000</td>\n",
       "      <td>0.000000</td>\n",
       "      <td>0.000000</td>\n",
       "      <td>0.000000</td>\n",
       "      <td>0.000000</td>\n",
       "      <td>0.000000</td>\n",
       "      <td>0.000000</td>\n",
       "    </tr>\n",
       "    <tr>\n",
       "      <th>25%</th>\n",
       "      <td>47.500000</td>\n",
       "      <td>0.000000</td>\n",
       "      <td>0.000000</td>\n",
       "      <td>120.000000</td>\n",
       "      <td>211.000000</td>\n",
       "      <td>0.000000</td>\n",
       "      <td>0.000000</td>\n",
       "      <td>133.500000</td>\n",
       "      <td>0.000000</td>\n",
       "      <td>0.000000</td>\n",
       "      <td>1.000000</td>\n",
       "      <td>0.000000</td>\n",
       "      <td>2.000000</td>\n",
       "      <td>0.000000</td>\n",
       "    </tr>\n",
       "    <tr>\n",
       "      <th>50%</th>\n",
       "      <td>55.000000</td>\n",
       "      <td>1.000000</td>\n",
       "      <td>1.000000</td>\n",
       "      <td>130.000000</td>\n",
       "      <td>240.000000</td>\n",
       "      <td>0.000000</td>\n",
       "      <td>1.000000</td>\n",
       "      <td>153.000000</td>\n",
       "      <td>0.000000</td>\n",
       "      <td>0.800000</td>\n",
       "      <td>1.000000</td>\n",
       "      <td>0.000000</td>\n",
       "      <td>2.000000</td>\n",
       "      <td>1.000000</td>\n",
       "    </tr>\n",
       "    <tr>\n",
       "      <th>75%</th>\n",
       "      <td>61.000000</td>\n",
       "      <td>1.000000</td>\n",
       "      <td>2.000000</td>\n",
       "      <td>140.000000</td>\n",
       "      <td>274.500000</td>\n",
       "      <td>0.000000</td>\n",
       "      <td>1.000000</td>\n",
       "      <td>166.000000</td>\n",
       "      <td>1.000000</td>\n",
       "      <td>1.600000</td>\n",
       "      <td>2.000000</td>\n",
       "      <td>1.000000</td>\n",
       "      <td>3.000000</td>\n",
       "      <td>1.000000</td>\n",
       "    </tr>\n",
       "    <tr>\n",
       "      <th>max</th>\n",
       "      <td>77.000000</td>\n",
       "      <td>1.000000</td>\n",
       "      <td>3.000000</td>\n",
       "      <td>200.000000</td>\n",
       "      <td>564.000000</td>\n",
       "      <td>1.000000</td>\n",
       "      <td>2.000000</td>\n",
       "      <td>202.000000</td>\n",
       "      <td>1.000000</td>\n",
       "      <td>6.200000</td>\n",
       "      <td>2.000000</td>\n",
       "      <td>4.000000</td>\n",
       "      <td>3.000000</td>\n",
       "      <td>1.000000</td>\n",
       "    </tr>\n",
       "  </tbody>\n",
       "</table>\n",
       "</div>"
      ],
      "text/plain": [
       "              age         sex          cp      trtbps        chol         fbs  \\\n",
       "count  303.000000  303.000000  303.000000  303.000000  303.000000  303.000000   \n",
       "mean    54.366337    0.683168    0.966997  131.623762  246.264026    0.148515   \n",
       "std      9.082101    0.466011    1.032052   17.538143   51.830751    0.356198   \n",
       "min     29.000000    0.000000    0.000000   94.000000  126.000000    0.000000   \n",
       "25%     47.500000    0.000000    0.000000  120.000000  211.000000    0.000000   \n",
       "50%     55.000000    1.000000    1.000000  130.000000  240.000000    0.000000   \n",
       "75%     61.000000    1.000000    2.000000  140.000000  274.500000    0.000000   \n",
       "max     77.000000    1.000000    3.000000  200.000000  564.000000    1.000000   \n",
       "\n",
       "          restecg    thalachh        exng     oldpeak         slp         caa  \\\n",
       "count  303.000000  303.000000  303.000000  303.000000  303.000000  303.000000   \n",
       "mean     0.528053  149.646865    0.326733    1.039604    1.399340    0.729373   \n",
       "std      0.525860   22.905161    0.469794    1.161075    0.616226    1.022606   \n",
       "min      0.000000   71.000000    0.000000    0.000000    0.000000    0.000000   \n",
       "25%      0.000000  133.500000    0.000000    0.000000    1.000000    0.000000   \n",
       "50%      1.000000  153.000000    0.000000    0.800000    1.000000    0.000000   \n",
       "75%      1.000000  166.000000    1.000000    1.600000    2.000000    1.000000   \n",
       "max      2.000000  202.000000    1.000000    6.200000    2.000000    4.000000   \n",
       "\n",
       "            thall      output  \n",
       "count  303.000000  303.000000  \n",
       "mean     2.313531    0.544554  \n",
       "std      0.612277    0.498835  \n",
       "min      0.000000    0.000000  \n",
       "25%      2.000000    0.000000  \n",
       "50%      2.000000    1.000000  \n",
       "75%      3.000000    1.000000  \n",
       "max      3.000000    1.000000  "
      ]
     },
     "execution_count": 4721,
     "metadata": {},
     "output_type": "execute_result"
    }
   ],
   "source": [
    "# Checking summary statistics on table\n",
    "heart_df.describe()"
   ]
  },
  {
   "cell_type": "code",
   "execution_count": 4722,
   "metadata": {},
   "outputs": [
    {
     "data": {
      "image/png": "[encoded data removed]",
      "text/plain": [
       "<Figure size 432x288 with 1 Axes>"
      ]
     },
     "metadata": {
      "needs_background": "light"
     },
     "output_type": "display_data"
    },
    {
     "data": {
      "image/png": "[encoded data removed]",
      "text/plain": [
       "<Figure size 432x288 with 1 Axes>"
      ]
     },
     "metadata": {
      "needs_background": "light"
     },
     "output_type": "display_data"
    },
    {
     "data": {
      "image/png": "[encoded data removed]",
      "text/plain": [
       "<Figure size 432x288 with 1 Axes>"
      ]
     },
     "metadata": {
      "needs_background": "light"
     },
     "output_type": "display_data"
    },
    {
     "data": {
      "image/png": "[encoded data removed]",
      "text/plain": [
       "<Figure size 432x288 with 1 Axes>"
      ]
     },
     "metadata": {
      "needs_background": "light"
     },
     "output_type": "display_data"
    },
    {
     "data": {
      "image/png": "[encoded data removed]",
      "text/plain": [
       "<Figure size 432x288 with 1 Axes>"
      ]
     },
     "metadata": {
      "needs_background": "light"
     },
     "output_type": "display_data"
    }
   ],
   "source": [
    "# Histograms on columns with continuous values\n",
    "data_numbered = heart_df[['age','trtbps','chol','thalachh','oldpeak']]\n",
    "\n",
    "for i in data_numbered.columns:\n",
    "    plt.hist(data_numbered[i])\n",
    "    plt.title(i)\n",
    "    plt.show()"
   ]
  },
  {
   "cell_type": "code",
   "execution_count": 4723,
   "metadata": {},
   "outputs": [
    {
     "data": {
      "text/plain": [
       "58    19\n",
       "57    17\n",
       "54    16\n",
       "59    14\n",
       "52    13\n",
       "51    12\n",
       "62    11\n",
       "44    11\n",
       "60    11\n",
       "56    11\n",
       "64    10\n",
       "41    10\n",
       "63     9\n",
       "67     9\n",
       "55     8\n",
       "45     8\n",
       "42     8\n",
       "53     8\n",
       "61     8\n",
       "65     8\n",
       "43     8\n",
       "66     7\n",
       "50     7\n",
       "48     7\n",
       "46     7\n",
       "49     5\n",
       "47     5\n",
       "39     4\n",
       "35     4\n",
       "68     4\n",
       "70     4\n",
       "40     3\n",
       "71     3\n",
       "69     3\n",
       "38     3\n",
       "34     2\n",
       "37     2\n",
       "77     1\n",
       "76     1\n",
       "74     1\n",
       "29     1\n",
       "Name: age, dtype: int64"
      ]
     },
     "execution_count": 4723,
     "metadata": {},
     "output_type": "execute_result"
    }
   ],
   "source": [
    "# Checking value_counts for age column \n",
    "heart_df[\"age\"].value_counts()"
   ]
  },
  {
   "cell_type": "code",
   "execution_count": 4724,
   "metadata": {},
   "outputs": [
    {
     "data": {
      "text/plain": [
       "1    207\n",
       "0     96\n",
       "Name: sex, dtype: int64"
      ]
     },
     "execution_count": 4724,
     "metadata": {},
     "output_type": "execute_result"
    }
   ],
   "source": [
    "# Checking value_counts for sex column \n",
    "heart_df[\"sex\"].value_counts()"
   ]
  },
  {
   "cell_type": "code",
   "execution_count": 4725,
   "metadata": {},
   "outputs": [
    {
     "data": {
      "text/plain": [
       "<matplotlib.axes._subplots.AxesSubplot at 0x7ff55fbe9a10>"
      ]
     },
     "execution_count": 4725,
     "metadata": {},
     "output_type": "execute_result"
    },
    {
     "data": {
      "image/png": "[encoded data removed]",
      "text/plain": [
       "<Figure size 432x288 with 1 Axes>"
      ]
     },
     "metadata": {
      "needs_background": "light"
     },
     "output_type": "display_data"
    }
   ],
   "source": [
    "# Bar chart of value_counts for \"sex\" column\n",
    "heart_df.sex.value_counts()[heart_df.sex.unique()].plot(kind='bar', title=\"Gender Count: 1 = Male & 0 = Female \")"
   ]
  },
  {
   "cell_type": "code",
   "execution_count": 4726,
   "metadata": {},
   "outputs": [
    {
     "data": {
      "image/png": "[encoded data removed]",
      "text/plain": [
       "<Figure size 432x288 with 1 Axes>"
      ]
     },
     "metadata": {
      "needs_background": "light"
     },
     "output_type": "display_data"
    }
   ],
   "source": [
    "gender_plot = heart_df.groupby(\"sex\")[\"age\"].count()\n",
    "gender_plot.plot(kind=\"bar\")\n",
    "plt.title(\"Heart Disease based on Gender\")\n",
    "plt.xlabel(\"Gender\")\n",
    "plt.ylabel(\"Tendency for heart disease\")\n",
    "plt.show()"
   ]
  },
  {
   "cell_type": "code",
   "execution_count": 4727,
   "metadata": {},
   "outputs": [
    {
     "data": {
      "text/plain": [
       "0    143\n",
       "2     87\n",
       "1     50\n",
       "3     23\n",
       "Name: cp, dtype: int64"
      ]
     },
     "execution_count": 4727,
     "metadata": {},
     "output_type": "execute_result"
    }
   ],
   "source": [
    "# Checking value_counts for cp column \n",
    "heart_df[\"cp\"].value_counts()"
   ]
  },
  {
   "cell_type": "code",
   "execution_count": 4728,
   "metadata": {},
   "outputs": [
    {
     "data": {
      "text/plain": [
       "<matplotlib.axes._subplots.AxesSubplot at 0x7ff53f836cd0>"
      ]
     },
     "execution_count": 4728,
     "metadata": {},
     "output_type": "execute_result"
    },
    {
     "data": {
      "image/png": "[encoded data removed]",
      "text/plain": [
       "<Figure size 432x288 with 1 Axes>"
      ]
     },
     "metadata": {
      "needs_background": "light"
     },
     "output_type": "display_data"
    }
   ],
   "source": [
    "# Bar chart of value_counts for \"cp\" column\n",
    "heart_df.cp.value_counts()[heart_df.cp.unique()].plot(kind='bar', title=\"Chest Pain Groups values_counts\")"
   ]
  },
  {
   "cell_type": "code",
   "execution_count": 4729,
   "metadata": {},
   "outputs": [
    {
     "data": {
      "text/plain": [
       "120    37\n",
       "130    36\n",
       "140    32\n",
       "110    19\n",
       "150    17\n",
       "138    13\n",
       "128    12\n",
       "125    11\n",
       "160    11\n",
       "112     9\n",
       "132     8\n",
       "118     7\n",
       "135     6\n",
       "108     6\n",
       "124     6\n",
       "145     5\n",
       "134     5\n",
       "152     5\n",
       "122     4\n",
       "170     4\n",
       "100     4\n",
       "142     3\n",
       "115     3\n",
       "136     3\n",
       "105     3\n",
       "180     3\n",
       "126     3\n",
       "102     2\n",
       "94      2\n",
       "144     2\n",
       "178     2\n",
       "146     2\n",
       "148     2\n",
       "129     1\n",
       "165     1\n",
       "101     1\n",
       "174     1\n",
       "104     1\n",
       "172     1\n",
       "106     1\n",
       "156     1\n",
       "164     1\n",
       "192     1\n",
       "114     1\n",
       "155     1\n",
       "117     1\n",
       "154     1\n",
       "123     1\n",
       "200     1\n",
       "Name: trtbps, dtype: int64"
      ]
     },
     "execution_count": 4729,
     "metadata": {},
     "output_type": "execute_result"
    }
   ],
   "source": [
    "# Checking value_counts for trtbps column \n",
    "heart_df[\"trtbps\"].value_counts()"
   ]
  },
  {
   "cell_type": "code",
   "execution_count": 4730,
   "metadata": {},
   "outputs": [
    {
     "data": {
      "text/plain": [
       "234    6\n",
       "204    6\n",
       "197    6\n",
       "269    5\n",
       "212    5\n",
       "      ..\n",
       "278    1\n",
       "281    1\n",
       "284    1\n",
       "290    1\n",
       "564    1\n",
       "Name: chol, Length: 152, dtype: int64"
      ]
     },
     "execution_count": 4730,
     "metadata": {},
     "output_type": "execute_result"
    }
   ],
   "source": [
    "# Checking value_counts for chol column \n",
    "heart_df[\"chol\"].value_counts()"
   ]
  },
  {
   "cell_type": "code",
   "execution_count": 4731,
   "metadata": {},
   "outputs": [
    {
     "data": {
      "text/plain": [
       "0    258\n",
       "1     45\n",
       "Name: fbs, dtype: int64"
      ]
     },
     "execution_count": 4731,
     "metadata": {},
     "output_type": "execute_result"
    }
   ],
   "source": [
    "# Checking value_counts for fbs column \n",
    "heart_df[\"fbs\"].value_counts()"
   ]
  },
  {
   "cell_type": "code",
   "execution_count": 4732,
   "metadata": {},
   "outputs": [
    {
     "name": "stderr",
     "output_type": "stream",
     "text": [
      "/Users/sandrabotica/opt/anaconda3/envs/PythonData/lib/python3.7/site-packages/IPython/core/displayhook.py:276: UserWarning: Output cache limit (currently 1000 entries) hit.\n",
      "Flushing oldest 200 entries.\n",
      "  'Flushing oldest {cull_count} entries.'.format(sz=sz, cull_count=cull_count))\n"
     ]
    },
    {
     "data": {
      "text/plain": [
       "<matplotlib.axes._subplots.AxesSubplot at 0x7ff53f873550>"
      ]
     },
     "execution_count": 4732,
     "metadata": {},
     "output_type": "execute_result"
    },
    {
     "data": {
      "image/png": "[encoded data removed]",
      "text/plain": [
       "<Figure size 432x288 with 1 Axes>"
      ]
     },
     "metadata": {
      "needs_background": "light"
     },
     "output_type": "display_data"
    }
   ],
   "source": [
    "# Bar chart of value_counts for \"fbs\" column\n",
    "heart_df.fbs.value_counts()[heart_df.fbs.unique()].plot(kind='bar', title=\"Fasting Blood Sugar Groups values_counts\")"
   ]
  },
  {
   "cell_type": "code",
   "execution_count": 4733,
   "metadata": {},
   "outputs": [
    {
     "data": {
      "text/plain": [
       "1    152\n",
       "0    147\n",
       "2      4\n",
       "Name: restecg, dtype: int64"
      ]
     },
     "execution_count": 4733,
     "metadata": {},
     "output_type": "execute_result"
    }
   ],
   "source": [
    "# Checking value_counts for restecg column \n",
    "heart_df[\"restecg\"].value_counts()"
   ]
  },
  {
   "cell_type": "code",
   "execution_count": 4734,
   "metadata": {},
   "outputs": [
    {
     "data": {
      "text/plain": [
       "<matplotlib.axes._subplots.AxesSubplot at 0x7ff4f9361d50>"
      ]
     },
     "execution_count": 4734,
     "metadata": {},
     "output_type": "execute_result"
    },
    {
     "data": {
      "image/png": "[encoded data removed]",
      "text/plain": [
       "<Figure size 432x288 with 1 Axes>"
      ]
     },
     "metadata": {
      "needs_background": "light"
     },
     "output_type": "display_data"
    }
   ],
   "source": [
    "# Bar chart of value_counts for \"restecg\" column\n",
    "heart_df.restecg.value_counts()[heart_df.restecg.unique()].plot(kind='bar', title=\"Resting ECG Groups values_counts\")"
   ]
  },
  {
   "cell_type": "code",
   "execution_count": 4735,
   "metadata": {},
   "outputs": [
    {
     "data": {
      "text/plain": [
       "162    11\n",
       "160     9\n",
       "163     9\n",
       "173     8\n",
       "152     8\n",
       "       ..\n",
       "129     1\n",
       "128     1\n",
       "127     1\n",
       "124     1\n",
       "71      1\n",
       "Name: thalachh, Length: 91, dtype: int64"
      ]
     },
     "execution_count": 4735,
     "metadata": {},
     "output_type": "execute_result"
    }
   ],
   "source": [
    "# Checking value_counts for thalachh column \n",
    "heart_df[\"thalachh\"].value_counts()"
   ]
  },
  {
   "cell_type": "code",
   "execution_count": 4736,
   "metadata": {},
   "outputs": [
    {
     "data": {
      "text/plain": [
       "0    204\n",
       "1     99\n",
       "Name: exng, dtype: int64"
      ]
     },
     "execution_count": 4736,
     "metadata": {},
     "output_type": "execute_result"
    }
   ],
   "source": [
    "# Checking value_counts for exng column \n",
    "heart_df[\"exng\"].value_counts()"
   ]
  },
  {
   "cell_type": "code",
   "execution_count": 4737,
   "metadata": {},
   "outputs": [
    {
     "data": {
      "text/plain": [
       "<matplotlib.axes._subplots.AxesSubplot at 0x7ff53f9c3d10>"
      ]
     },
     "execution_count": 4737,
     "metadata": {},
     "output_type": "execute_result"
    },
    {
     "data": {
      "image/png": "[encoded data removed]",
      "text/plain": [
       "<Figure size 432x288 with 1 Axes>"
      ]
     },
     "metadata": {
      "needs_background": "light"
     },
     "output_type": "display_data"
    }
   ],
   "source": [
    "# Bar chart of value_counts for \"exng\" column\n",
    "heart_df.exng.value_counts()[heart_df.exng.unique()].plot(kind='bar', title=\"Exercise Induced Angina Groups values_counts\")"
   ]
  },
  {
   "cell_type": "code",
   "execution_count": 4738,
   "metadata": {},
   "outputs": [
    {
     "data": {
      "text/plain": [
       "0.0    99\n",
       "1.2    17\n",
       "0.6    14\n",
       "1.0    14\n",
       "0.8    13\n",
       "1.4    13\n",
       "0.2    12\n",
       "1.6    11\n",
       "1.8    10\n",
       "0.4     9\n",
       "2.0     9\n",
       "0.1     7\n",
       "2.6     6\n",
       "2.8     6\n",
       "1.9     5\n",
       "1.5     5\n",
       "0.5     5\n",
       "3.0     5\n",
       "2.2     4\n",
       "3.6     4\n",
       "2.4     3\n",
       "3.4     3\n",
       "4.0     3\n",
       "0.9     3\n",
       "0.3     3\n",
       "2.3     2\n",
       "4.2     2\n",
       "1.1     2\n",
       "2.5     2\n",
       "3.2     2\n",
       "6.2     1\n",
       "2.1     1\n",
       "4.4     1\n",
       "1.3     1\n",
       "3.1     1\n",
       "0.7     1\n",
       "5.6     1\n",
       "3.8     1\n",
       "2.9     1\n",
       "3.5     1\n",
       "Name: oldpeak, dtype: int64"
      ]
     },
     "execution_count": 4738,
     "metadata": {},
     "output_type": "execute_result"
    }
   ],
   "source": [
    "# Checking value_counts for oldpeak column \n",
    "heart_df[\"oldpeak\"].value_counts()"
   ]
  },
  {
   "cell_type": "code",
   "execution_count": 4739,
   "metadata": {},
   "outputs": [
    {
     "data": {
      "text/plain": [
       "2    142\n",
       "1    140\n",
       "0     21\n",
       "Name: slp, dtype: int64"
      ]
     },
     "execution_count": 4739,
     "metadata": {},
     "output_type": "execute_result"
    }
   ],
   "source": [
    "# Checking value_counts for slp column \n",
    "heart_df[\"slp\"].value_counts()"
   ]
  },
  {
   "cell_type": "code",
   "execution_count": 4740,
   "metadata": {},
   "outputs": [
    {
     "data": {
      "text/plain": [
       "<matplotlib.axes._subplots.AxesSubplot at 0x7ff55fc8f910>"
      ]
     },
     "execution_count": 4740,
     "metadata": {},
     "output_type": "execute_result"
    },
    {
     "data": {
      "image/png": "[encoded data removed]",
      "text/plain": [
       "<Figure size 432x288 with 1 Axes>"
      ]
     },
     "metadata": {
      "needs_background": "light"
     },
     "output_type": "display_data"
    }
   ],
   "source": [
    "# Bar chart of value_counts for \"slp\" column\n",
    "heart_df.slp.value_counts()[heart_df.slp.unique()].plot(kind='bar', title=\"Slope of Peak Exercise ST Segment Group values_counts\")"
   ]
  },
  {
   "cell_type": "code",
   "execution_count": 4741,
   "metadata": {},
   "outputs": [
    {
     "data": {
      "text/plain": [
       "0    175\n",
       "1     65\n",
       "2     38\n",
       "3     20\n",
       "4      5\n",
       "Name: caa, dtype: int64"
      ]
     },
     "execution_count": 4741,
     "metadata": {},
     "output_type": "execute_result"
    }
   ],
   "source": [
    "# Checking value_counts for caa column \n",
    "heart_df[\"caa\"].value_counts()"
   ]
  },
  {
   "cell_type": "code",
   "execution_count": 4742,
   "metadata": {},
   "outputs": [
    {
     "data": {
      "text/plain": [
       "<matplotlib.axes._subplots.AxesSubplot at 0x7ff56e644050>"
      ]
     },
     "execution_count": 4742,
     "metadata": {},
     "output_type": "execute_result"
    },
    {
     "data": {
      "image/png": "[encoded data removed]",
      "text/plain": [
       "<Figure size 432x288 with 1 Axes>"
      ]
     },
     "metadata": {
      "needs_background": "light"
     },
     "output_type": "display_data"
    }
   ],
   "source": [
    "# Bar chart of value_counts for \"caa\" column\n",
    "heart_df.caa.value_counts()[heart_df.caa.unique()].plot(kind='bar', title=\"Coronary Artery Anomalies(No. of  major vessels) Group values_counts\")"
   ]
  },
  {
   "cell_type": "code",
   "execution_count": 4743,
   "metadata": {},
   "outputs": [
    {
     "data": {
      "text/plain": [
       "2    166\n",
       "3    117\n",
       "1     18\n",
       "0      2\n",
       "Name: thall, dtype: int64"
      ]
     },
     "execution_count": 4743,
     "metadata": {},
     "output_type": "execute_result"
    }
   ],
   "source": [
    "# Checking value_counts for thall column \n",
    "heart_df[\"thall\"].value_counts()"
   ]
  },
  {
   "cell_type": "code",
   "execution_count": 4744,
   "metadata": {},
   "outputs": [
    {
     "data": {
      "text/plain": [
       "<matplotlib.axes._subplots.AxesSubplot at 0x7ff56e693990>"
      ]
     },
     "execution_count": 4744,
     "metadata": {},
     "output_type": "execute_result"
    },
    {
     "data": {
      "image/png": "[encoded data removed]",
      "text/plain": [
       "<Figure size 432x288 with 1 Axes>"
      ]
     },
     "metadata": {
      "needs_background": "light"
     },
     "output_type": "display_data"
    }
   ],
   "source": [
    "# Bar chart of value_counts for \"thall\" column\n",
    "heart_df.thall.value_counts()[heart_df.thall.unique()].plot(kind='bar', title=\"Thalassemia Group values_counts\")"
   ]
  },
  {
   "cell_type": "code",
   "execution_count": 4745,
   "metadata": {},
   "outputs": [
    {
     "data": {
      "text/plain": [
       "1    165\n",
       "0    138\n",
       "Name: output, dtype: int64"
      ]
     },
     "execution_count": 4745,
     "metadata": {},
     "output_type": "execute_result"
    }
   ],
   "source": [
    "# Checking value_counts for output column \n",
    "heart_df[\"output\"].value_counts()"
   ]
  },
  {
   "cell_type": "code",
   "execution_count": 4746,
   "metadata": {},
   "outputs": [
    {
     "data": {
      "text/plain": [
       "<matplotlib.axes._subplots.AxesSubplot at 0x7ff55fd8c110>"
      ]
     },
     "execution_count": 4746,
     "metadata": {},
     "output_type": "execute_result"
    },
    {
     "data": {
      "image/png": "[encoded data removed]",
      "text/plain": [
       "<Figure size 432x288 with 1 Axes>"
      ]
     },
     "metadata": {
      "needs_background": "light"
     },
     "output_type": "display_data"
    }
   ],
   "source": [
    "# Bar chart of value_counts for \"output\" column\n",
    "heart_df.output.value_counts()[heart_df.output.unique()].plot(kind='bar', title=\"Output Group values_counts\")"
   ]
  },
  {
   "cell_type": "code",
   "execution_count": 4747,
   "metadata": {},
   "outputs": [
    {
     "data": {
      "image/png": "[encoded data removed]",
      "text/plain": [
       "<Figure size 1800x864 with 2 Axes>"
      ]
     },
     "metadata": {
      "needs_background": "light"
     },
     "output_type": "display_data"
    }
   ],
   "source": [
    "plt.figure(figsize=[25,12])\n",
    "heat = heart_df.corr()\n",
    "sns.heatmap(heat, cmap=['#a9ceea','#539ed6','#2986cc','#1c5d8e','white'], annot=True)\n",
    "plt.title(\"Checking for Correlations\", size=40, pad=20)\n",
    "sns.despine()\n",
    "plt.show()"
   ]
  },
  {
   "attachments": {},
   "cell_type": "markdown",
   "metadata": {},
   "source": [
    "### Creating more features with binning of column values"
   ]
  },
  {
   "cell_type": "code",
   "execution_count": 4748,
   "metadata": {},
   "outputs": [],
   "source": [
    "# # Creating 10 year 'bins' for age column \n",
    "# heart_df['age groups'] = pd.cut(x=heart_df[\"age\"], \n",
    "#                           bins=[29, 39, 49, 59, 69, 79],\n",
    "#                           labels = [\"age less than 39\", \n",
    "#                                     \"age between 39 and 49\",\n",
    "#                                     \"age between 49 and 59\", \n",
    "#                                     \"age between 59 and 69\",\n",
    "#                                     \"age between 69 and 79\"])\n",
    "# heart_df.head(2)"
   ]
  },
  {
   "cell_type": "code",
   "execution_count": 4749,
   "metadata": {},
   "outputs": [],
   "source": [
    "# # Creating 2 'bins' for cp column \n",
    "# heart_df['cp groups'] = pd.cut(x=heart_df[\"cp\"], \n",
    "#                           bins=[0, 87, 143],\n",
    "#                           labels = [\"cp group 1,2,3 atypical, non-anginal,asymptomatic \", \n",
    "#                                     \"cp group 0 typical angina\"])\n",
    "# heart_df.head(2)"
   ]
  },
  {
   "cell_type": "code",
   "execution_count": 4750,
   "metadata": {},
   "outputs": [],
   "source": [
    "# # Creating 5 'bins' for trtbps column \n",
    "# heart_df['trtbps groups'] = pd.cut(x=heart_df[\"trtbps\"], \n",
    "#                           bins=[0, 119, 129, 139, 179, 200],\n",
    "#                           labels = [\"bp less than 120\", \n",
    "#                                     \"bp between 120 and 129\", \n",
    "#                                     \"bp between 130 and 139\",\n",
    "#                                     \"bp between 140 and 179\",\n",
    "#                                     \"bp 180 or higher\"])\n",
    "# heart_df.head(2)"
   ]
  },
  {
   "cell_type": "code",
   "execution_count": 4751,
   "metadata": {},
   "outputs": [],
   "source": [
    "# # Creating 3 'bins' for chol column \n",
    "# heart_df['chol groups'] = pd.cut(x=heart_df[\"chol\"], \n",
    "#                           bins=[0, 199, 239, 564],\n",
    "#                           labels = [\"chol less than 200\", \n",
    "#                                     \"chol between 200 and 239\", \n",
    "#                                     \"chol 240 or higher\"])\n",
    "# heart_df.head(2)"
   ]
  },
  {
   "cell_type": "code",
   "execution_count": 4752,
   "metadata": {},
   "outputs": [],
   "source": [
    "# # Creating 2 'bins' for restecg column "
   ]
  },
  {
   "cell_type": "code",
   "execution_count": 4753,
   "metadata": {},
   "outputs": [],
   "source": [
    "# # Creating X 'bins' for thalachh column use pd.cut"
   ]
  },
  {
   "cell_type": "code",
   "execution_count": 4754,
   "metadata": {},
   "outputs": [],
   "source": [
    "# # Creating X 'bins' for oldpeak column use pd.cut"
   ]
  },
  {
   "cell_type": "code",
   "execution_count": 4755,
   "metadata": {},
   "outputs": [],
   "source": [
    "# # Creating 2 'bins' for slp column "
   ]
  },
  {
   "cell_type": "code",
   "execution_count": 4756,
   "metadata": {},
   "outputs": [],
   "source": [
    "# # Creating 2 'bins' for caa column \n",
    "# heart_df['caa groups'] = pd.cut(x=heart_df[\"caa\"], \n",
    "#                           bins=[0, 174, 176],\n",
    "#                           labels = [\"caa group 1,2,3,4 blood vessel anomalies\", \n",
    "#                                     \"caa group 0 blood vessel anomalies\"])\n",
    "# heart_df.head(2)"
   ]
  },
  {
   "cell_type": "code",
   "execution_count": 4757,
   "metadata": {},
   "outputs": [],
   "source": [
    "# # Creating 2 'bins' for thall column "
   ]
  },
  {
   "cell_type": "code",
   "execution_count": 4758,
   "metadata": {},
   "outputs": [],
   "source": [
    "# heart_df.info()"
   ]
  },
  {
   "cell_type": "code",
   "execution_count": 4759,
   "metadata": {},
   "outputs": [],
   "source": [
    "# # Generate our categorical variable lists\n",
    "# categorical_list = heart_df.dtypes[heart_df.dtypes == \"category\"].index.tolist()\n",
    "# categorical_list"
   ]
  },
  {
   "cell_type": "code",
   "execution_count": 4760,
   "metadata": {},
   "outputs": [],
   "source": [
    "# # Check the number of unique values in each column\n",
    "# heart_df[categorical_list].nunique()"
   ]
  },
  {
   "cell_type": "code",
   "execution_count": 4761,
   "metadata": {},
   "outputs": [],
   "source": [
    "# # Convert categorical data to numeric with `pd.get_dummies`\n",
    "# categorical_encoded = pd.get_dummies(heart_df[categorical_list])\n",
    "# categorical_encoded.head()"
   ]
  },
  {
   "cell_type": "code",
   "execution_count": 4762,
   "metadata": {},
   "outputs": [],
   "source": [
    "# # Concatenate the `categorical_data` encoded dummies with the DataFrame\n",
    "# heart_df = pd.concat([heart_df, categorical_encoded], axis=1)\n",
    "\n",
    "# # Display the combined DataFrame.\n",
    "# heart_df.head()"
   ]
  },
  {
   "cell_type": "code",
   "execution_count": 4763,
   "metadata": {},
   "outputs": [],
   "source": [
    "# # Dropping categorical column \n",
    "# heart_df = heart_df.drop(columns = categorical_list, axis=1)\n",
    "# # # Dropping age, cp, trtbps, chol, restecg, thalachh, oldpeak, slp, caa and thall column\n",
    "# # heart_df = heart_df.drop(columns = [\"age\",\"cp\", \"trtbps\", \"chol\", \"restecg\", \"thalachh\", \"oldpeak\", \"slp\", \"caa\", \"thall\"], axis=1)\n",
    "# # Dropping age, trtbps and chol column\n",
    "# # heart_df = heart_df.drop(columns = [\"age\", \"cp\", \"trtbps\", \"chol\", \"caa\"], axis=1)\n",
    "# # heart_df = heart_df.drop(columns = [\"age\"], axis=1)\n",
    "# # heart_df = heart_df.drop(columns = [\"cp\"], axis=1)\n",
    "# # heart_df = heart_df.drop(columns = [\"trtbps\"], axis=1)\n",
    "# # heart_df = heart_df.drop(columns = [\"chol\"], axis=1)\n",
    "# # heart_df = heart_df.drop(columns = [ \"caa\"], axis=1)\n",
    "# # heart_df = heart_df.drop(columns = [\"chol\", \"caa\"], axis=1)\n",
    "# # heart_df = heart_df.drop(columns = [\"trtbps\",\"chol\", \"caa\"], axis=1)\n",
    "# # heart_df = heart_df.drop(columns = [ \"cp\",\"trtbps\",\"chol\", \"caa\"], axis=1)\n",
    "# heart_df = heart_df.drop(columns = [\"age\", \"cp\", \"trtbps\", \"chol\", \"caa\"], axis=1)\n",
    "# heart_df.head()"
   ]
  },
  {
   "attachments": {},
   "cell_type": "markdown",
   "metadata": {},
   "source": [
    "## Creating the labels set (`y`)  from the “output” column, and the features (`X`) DataFrame from the remaining columns."
   ]
  },
  {
   "cell_type": "code",
   "execution_count": 4764,
   "metadata": {},
   "outputs": [],
   "source": [
    "# Separate the data into labels and features\n",
    "\n",
    "# Separate the y variable, the labels\n",
    "y = heart_df[\"output\"]\n",
    "\n",
    "# Separate the X variable, the features\n",
    "# X = heart_df.drop(columns=['output'])\n",
    "# X = heart_df.drop(columns=['chol', 'output'])\n",
    "# X = heart_df.drop(columns=['fbs', 'output'])\n",
    "# X = heart_df.drop(columns=['chol', 'fbs', 'output'])\n",
    "# X = heart_df.drop(columns=['sex', 'chol', 'fbs', 'output'])\n",
    "# X = heart_df.drop(columns=['age', 'chol', 'fbs', 'output'])\n",
    "# X = heart_df.drop(columns=['oldpeak','chol', 'fbs', 'output'])\n",
    "# X = heart_df.drop(columns=['thall', 'chol', 'fbs', 'output'])\n",
    "# X = heart_df.drop(columns=['cp', 'chol', 'fbs', 'output'])\n",
    "# X = heart_df.drop(columns=['restecg', 'chol', 'fbs','output'])\n",
    "# X = heart_df.drop(columns=['exng', 'chol', 'fbs', 'output'])\n",
    "# X = heart_df.drop(columns=['oldpeak','chol', 'fbs', 'output'])\n",
    "# X = heart_df.drop(columns=['slp','chol', 'fbs', 'output'])\n",
    "# X = heart_df.drop(columns=['caa','chol', 'fbs', 'output'])\n",
    "# X = heart_df.drop(columns=['thalachh', 'chol', 'fbs', 'output'])\n",
    "\n",
    "X = heart_df.drop(columns=['cp', 'trtbps', 'chol', 'restecg', 'output'])\n",
    "\n",
    "# X = heart_df.drop(columns=['cp', 'trtbps', 'chol', 'restecg', 'thalachh', 'output'])\n",
    "\n",
    "# X = heart_df.drop(columns=['age', 'sex',  'trtbps', 'chol', 'fbs', 'restecg',\n",
    "#        'exng', 'oldpeak', 'caa', 'thall', 'output'])\n",
    "\n",
    "# X = heart_df.drop(columns=['age',  'trtbps', 'chol', 'fbs', 'restecg',  'slp', 'output'])\n",
    "\n",
    "# X = heart_df.drop(columns=['age', 'trtbps', 'chol', 'fbs', 'restecg',  'slp', 'output'])\n",
    "\n",
    "# X = heart_df.drop(columns=['slp', 'sex', 'restecg', 'fbs','output'])\n"
   ]
  },
  {
   "cell_type": "code",
   "execution_count": 4765,
   "metadata": {},
   "outputs": [
    {
     "data": {
      "text/html": [
       "<div>\n",
       "<style scoped>\n",
       "    .dataframe tbody tr th:only-of-type {\n",
       "        vertical-align: middle;\n",
       "    }\n",
       "\n",
       "    .dataframe tbody tr th {\n",
       "        vertical-align: top;\n",
       "    }\n",
       "\n",
       "    .dataframe thead th {\n",
       "        text-align: right;\n",
       "    }\n",
       "</style>\n",
       "<table border=\"1\" class=\"dataframe\">\n",
       "  <thead>\n",
       "    <tr style=\"text-align: right;\">\n",
       "      <th></th>\n",
       "      <th>age</th>\n",
       "      <th>sex</th>\n",
       "      <th>fbs</th>\n",
       "      <th>thalachh</th>\n",
       "      <th>exng</th>\n",
       "      <th>oldpeak</th>\n",
       "      <th>slp</th>\n",
       "      <th>caa</th>\n",
       "      <th>thall</th>\n",
       "    </tr>\n",
       "  </thead>\n",
       "  <tbody>\n",
       "    <tr>\n",
       "      <th>0</th>\n",
       "      <td>63</td>\n",
       "      <td>1</td>\n",
       "      <td>1</td>\n",
       "      <td>150</td>\n",
       "      <td>0</td>\n",
       "      <td>2.3</td>\n",
       "      <td>0</td>\n",
       "      <td>0</td>\n",
       "      <td>1</td>\n",
       "    </tr>\n",
       "    <tr>\n",
       "      <th>1</th>\n",
       "      <td>37</td>\n",
       "      <td>1</td>\n",
       "      <td>0</td>\n",
       "      <td>187</td>\n",
       "      <td>0</td>\n",
       "      <td>3.5</td>\n",
       "      <td>0</td>\n",
       "      <td>0</td>\n",
       "      <td>2</td>\n",
       "    </tr>\n",
       "    <tr>\n",
       "      <th>2</th>\n",
       "      <td>41</td>\n",
       "      <td>0</td>\n",
       "      <td>0</td>\n",
       "      <td>172</td>\n",
       "      <td>0</td>\n",
       "      <td>1.4</td>\n",
       "      <td>2</td>\n",
       "      <td>0</td>\n",
       "      <td>2</td>\n",
       "    </tr>\n",
       "    <tr>\n",
       "      <th>3</th>\n",
       "      <td>56</td>\n",
       "      <td>1</td>\n",
       "      <td>0</td>\n",
       "      <td>178</td>\n",
       "      <td>0</td>\n",
       "      <td>0.8</td>\n",
       "      <td>2</td>\n",
       "      <td>0</td>\n",
       "      <td>2</td>\n",
       "    </tr>\n",
       "    <tr>\n",
       "      <th>4</th>\n",
       "      <td>57</td>\n",
       "      <td>0</td>\n",
       "      <td>0</td>\n",
       "      <td>163</td>\n",
       "      <td>1</td>\n",
       "      <td>0.6</td>\n",
       "      <td>2</td>\n",
       "      <td>0</td>\n",
       "      <td>2</td>\n",
       "    </tr>\n",
       "  </tbody>\n",
       "</table>\n",
       "</div>"
      ],
      "text/plain": [
       "   age  sex  fbs  thalachh  exng  oldpeak  slp  caa  thall\n",
       "0   63    1    1       150     0      2.3    0    0      1\n",
       "1   37    1    0       187     0      3.5    0    0      2\n",
       "2   41    0    0       172     0      1.4    2    0      2\n",
       "3   56    1    0       178     0      0.8    2    0      2\n",
       "4   57    0    0       163     1      0.6    2    0      2"
      ]
     },
     "execution_count": 4765,
     "metadata": {},
     "output_type": "execute_result"
    }
   ],
   "source": [
    "# Review the X variable DataFrame\n",
    "X.head()"
   ]
  },
  {
   "cell_type": "code",
   "execution_count": 4766,
   "metadata": {},
   "outputs": [
    {
     "data": {
      "text/plain": [
       "1    165\n",
       "0    138\n",
       "Name: output, dtype: int64"
      ]
     },
     "execution_count": 4766,
     "metadata": {},
     "output_type": "execute_result"
    }
   ],
   "source": [
    "# Check the balance of the labels values/target variable(y)\n",
    "y.value_counts()"
   ]
  },
  {
   "attachments": {},
   "cell_type": "markdown",
   "metadata": {},
   "source": [
    "## Split the Data into Training and Testing Sets"
   ]
  },
  {
   "cell_type": "code",
   "execution_count": 4767,
   "metadata": {},
   "outputs": [],
   "source": [
    "# Split into testing and training sets using train_test_split\n",
    "# Assign a random_state of 1 to the function\n",
    "X_train, X_test, y_train, y_test = train_test_split(X, y, random_state=1)"
   ]
  },
  {
   "cell_type": "code",
   "execution_count": 4768,
   "metadata": {},
   "outputs": [],
   "source": [
    "# # Split into testing and training sets using train_test_split with the test size 20% instead of 25%\n",
    "# # Assign a random_state of 1 to the function\n",
    "# X_train, X_test, y_train, y_test = train_test_split(X, y, test_size = 0.2, random_state=1)"
   ]
  },
  {
   "cell_type": "code",
   "execution_count": 4769,
   "metadata": {},
   "outputs": [],
   "source": [
    "# # Split into testing and training sets using train_test_split\n",
    "# # Assign a random_state of 1 to the function\n",
    "# X_train, X_test, y_train, y_test = train_test_split(X, y, test_size=0.3,random_state=42)"
   ]
  },
  {
   "cell_type": "code",
   "execution_count": 4770,
   "metadata": {},
   "outputs": [],
   "source": [
    "# # Perform feature scaling on numerical features\n",
    "# scaler = StandardScaler()\n",
    "# X_train_scaled = scaler.fit_transform(X_train)\n",
    "# X_test_scaled = scaler.transform(X_test)"
   ]
  },
  {
   "cell_type": "code",
   "execution_count": 4771,
   "metadata": {},
   "outputs": [],
   "source": [
    "# # Perform feature selection using SelectKBest and ANOVA F-value\n",
    "# selector = SelectKBest(score_func=f_classif, k=5)\n",
    "# X_train_selected = selector.fit_transform(X_train_scaled, y_train)\n",
    "# X_test_selected = selector.transform(X_test_scaled)"
   ]
  },
  {
   "cell_type": "code",
   "execution_count": 4772,
   "metadata": {},
   "outputs": [],
   "source": [
    "# # Create an instance of Logistic Regression model\n",
    "# model = LogisticRegression()"
   ]
  },
  {
   "cell_type": "code",
   "execution_count": 4773,
   "metadata": {},
   "outputs": [],
   "source": [
    "# # Define the hyperparameter grid for grid search\n",
    "# param_grid = {'C': [0.1, 1, 10], 'penalty': ['l1', 'l2']}"
   ]
  },
  {
   "cell_type": "code",
   "execution_count": 4774,
   "metadata": {},
   "outputs": [],
   "source": [
    "# # Perform grid search to find the best hyperparameters\n",
    "# grid_search = GridSearchCV(model, param_grid, cv=5)\n",
    "# grid_search.fit(X_train_selected, y_train)"
   ]
  },
  {
   "cell_type": "code",
   "execution_count": 4775,
   "metadata": {},
   "outputs": [],
   "source": [
    "# # Get the best model from grid search\n",
    "# best_model = grid_search.best_estimator_"
   ]
  },
  {
   "cell_type": "code",
   "execution_count": 4776,
   "metadata": {},
   "outputs": [],
   "source": [
    "# # Predict the target variable for the test data\n",
    "# y_pred = best_model.predict(X_test_selected)"
   ]
  },
  {
   "cell_type": "code",
   "execution_count": 4777,
   "metadata": {},
   "outputs": [],
   "source": [
    "# # Calculate the accuracy of the model\n",
    "# accuracy = accuracy_score(y_test, y_pred)\n",
    "# print(f\"Accuracy: {accuracy}\")"
   ]
  },
  {
   "cell_type": "code",
   "execution_count": 4778,
   "metadata": {},
   "outputs": [],
   "source": [
    "# # You can also access the best model's coefficients and intercept\n",
    "# coefficients = best_model.coef_\n",
    "# intercept = best_model.intercept_"
   ]
  },
  {
   "cell_type": "code",
   "execution_count": 4779,
   "metadata": {},
   "outputs": [],
   "source": [
    "# # Perform feature selection using SelectKBest and ANOVA F-value\n",
    "# selector = SelectKBest(score_func=f_classif, k=5)\n",
    "# X_train_selected = selector.fit_transform(X_train, y_train)\n",
    "# X_test_selected = selector.transform(X_test)"
   ]
  },
  {
   "cell_type": "code",
   "execution_count": 4780,
   "metadata": {},
   "outputs": [],
   "source": [
    "# # Create an instance of Logistic Regression model\n",
    "# model = LogisticRegression()"
   ]
  },
  {
   "cell_type": "code",
   "execution_count": 4781,
   "metadata": {},
   "outputs": [],
   "source": [
    "# # Define the hyperparameter grid for grid search\n",
    "# param_grid = {'C': [0.1, 1, 10], 'penalty': ['l1', 'l2']}"
   ]
  },
  {
   "cell_type": "code",
   "execution_count": 4782,
   "metadata": {},
   "outputs": [],
   "source": [
    "# # Perform grid search to find the best hyperparameters\n",
    "# grid_search = GridSearchCV(model, param_grid, cv=5)\n",
    "# grid_search.fit(X_train, y_train)"
   ]
  },
  {
   "cell_type": "code",
   "execution_count": 4783,
   "metadata": {},
   "outputs": [],
   "source": [
    "# # Get the best model from grid search\n",
    "# best_model = grid_search.best_estimator_"
   ]
  },
  {
   "cell_type": "code",
   "execution_count": 4784,
   "metadata": {},
   "outputs": [],
   "source": [
    "# # Predict the target variable for the test data\n",
    "# y_pred = best_model.predict(X_test)"
   ]
  },
  {
   "cell_type": "code",
   "execution_count": 4785,
   "metadata": {},
   "outputs": [],
   "source": [
    "# # Calculate the accuracy of the model\n",
    "# accuracy = accuracy_score(y_test, y_pred)\n",
    "# print(f\"Accuracy: {accuracy}\")"
   ]
  },
  {
   "cell_type": "code",
   "execution_count": 4786,
   "metadata": {},
   "outputs": [],
   "source": [
    "# # You can also access the best model's coefficients and intercept\n",
    "# coefficients = best_model.coef_\n",
    "# intercept = best_model.intercept_\n",
    "# print(f\"Coefficients: {coefficients}\")\n",
    "# print(f\"Intercept: {intercept}\")"
   ]
  },
  {
   "attachments": {},
   "cell_type": "markdown",
   "metadata": {},
   "source": [
    "## Creating a Logistic Regression Model with the original data"
   ]
  },
  {
   "attachments": {},
   "cell_type": "markdown",
   "metadata": {},
   "source": [
    "###  Step 1: Fit a logistic regression model by using the training data (`X_train` and `y_train`)."
   ]
  },
  {
   "cell_type": "code",
   "execution_count": 4787,
   "metadata": {},
   "outputs": [
    {
     "name": "stderr",
     "output_type": "stream",
     "text": [
      "/Users/sandrabotica/opt/anaconda3/envs/PythonData/lib/python3.7/site-packages/sklearn/linear_model/_logistic.py:940: ConvergenceWarning: lbfgs failed to converge (status=1):\n",
      "STOP: TOTAL NO. of ITERATIONS REACHED LIMIT.\n",
      "\n",
      "Increase the number of iterations (max_iter) or scale the data as shown in:\n",
      "    https://scikit-learn.org/stable/modules/preprocessing.html\n",
      "Please also refer to the documentation for alternative solver options:\n",
      "    https://scikit-learn.org/stable/modules/linear_model.html#logistic-regression\n",
      "  extra_warning_msg=_LOGISTIC_SOLVER_CONVERGENCE_MSG)\n"
     ]
    },
    {
     "data": {
      "text/plain": [
       "LogisticRegression(C=1.0, class_weight=None, dual=False, fit_intercept=True,\n",
       "                   intercept_scaling=1, l1_ratio=None, max_iter=100,\n",
       "                   multi_class='auto', n_jobs=None, penalty='l2',\n",
       "                   random_state=1, solver='lbfgs', tol=0.0001, verbose=0,\n",
       "                   warm_start=False)"
      ]
     },
     "execution_count": 4787,
     "metadata": {},
     "output_type": "execute_result"
    }
   ],
   "source": [
    "# Declare a logistic regression model.\n",
    "# Apply a random_state of 1 to the model\n",
    "lr_model = LogisticRegression(solver='lbfgs',random_state=1)\n",
    "# lr_model = LogisticRegression(solver='liblinear',random_state=1)\n",
    "# lr_model = LogisticRegression(solver='newton-cg',random_state=1)\n",
    "\n",
    "\n",
    "# Fit and save the logistic regression model using the training data\n",
    "lr_model.fit(X_train, y_train)"
   ]
  },
  {
   "cell_type": "code",
   "execution_count": 4788,
   "metadata": {},
   "outputs": [
    {
     "name": "stdout",
     "output_type": "stream",
     "text": [
      "Training Data Score: 0.8281938325991189\n",
      "Testing Data Score: 0.8289473684210527\n"
     ]
    }
   ],
   "source": [
    "# Score the model\n",
    "print(f\"Training Data Score: {lr_model.score(X_train, y_train)}\")\n",
    "print(f\"Testing Data Score: {lr_model.score(X_test, y_test)}\")"
   ]
  },
  {
   "attachments": {},
   "cell_type": "markdown",
   "metadata": {},
   "source": [
    "### Step 2: Save the predictions on the testing data labels by using the testing feature data (`X_test`) and the fitted model."
   ]
  },
  {
   "cell_type": "code",
   "execution_count": 4789,
   "metadata": {},
   "outputs": [
    {
     "data": {
      "text/html": [
       "<div>\n",
       "<style scoped>\n",
       "    .dataframe tbody tr th:only-of-type {\n",
       "        vertical-align: middle;\n",
       "    }\n",
       "\n",
       "    .dataframe tbody tr th {\n",
       "        vertical-align: top;\n",
       "    }\n",
       "\n",
       "    .dataframe thead th {\n",
       "        text-align: right;\n",
       "    }\n",
       "</style>\n",
       "<table border=\"1\" class=\"dataframe\">\n",
       "  <thead>\n",
       "    <tr style=\"text-align: right;\">\n",
       "      <th></th>\n",
       "      <th>Prediction</th>\n",
       "      <th>Actual</th>\n",
       "    </tr>\n",
       "  </thead>\n",
       "  <tbody>\n",
       "    <tr>\n",
       "      <th>0</th>\n",
       "      <td>0</td>\n",
       "      <td>0</td>\n",
       "    </tr>\n",
       "    <tr>\n",
       "      <th>1</th>\n",
       "      <td>1</td>\n",
       "      <td>1</td>\n",
       "    </tr>\n",
       "    <tr>\n",
       "      <th>2</th>\n",
       "      <td>0</td>\n",
       "      <td>0</td>\n",
       "    </tr>\n",
       "    <tr>\n",
       "      <th>3</th>\n",
       "      <td>0</td>\n",
       "      <td>0</td>\n",
       "    </tr>\n",
       "    <tr>\n",
       "      <th>4</th>\n",
       "      <td>0</td>\n",
       "      <td>0</td>\n",
       "    </tr>\n",
       "    <tr>\n",
       "      <th>5</th>\n",
       "      <td>0</td>\n",
       "      <td>0</td>\n",
       "    </tr>\n",
       "    <tr>\n",
       "      <th>6</th>\n",
       "      <td>0</td>\n",
       "      <td>0</td>\n",
       "    </tr>\n",
       "    <tr>\n",
       "      <th>7</th>\n",
       "      <td>1</td>\n",
       "      <td>1</td>\n",
       "    </tr>\n",
       "    <tr>\n",
       "      <th>8</th>\n",
       "      <td>0</td>\n",
       "      <td>0</td>\n",
       "    </tr>\n",
       "    <tr>\n",
       "      <th>9</th>\n",
       "      <td>1</td>\n",
       "      <td>1</td>\n",
       "    </tr>\n",
       "  </tbody>\n",
       "</table>\n",
       "</div>"
      ],
      "text/plain": [
       "   Prediction  Actual\n",
       "0           0       0\n",
       "1           1       1\n",
       "2           0       0\n",
       "3           0       0\n",
       "4           0       0\n",
       "5           0       0\n",
       "6           0       0\n",
       "7           1       1\n",
       "8           0       0\n",
       "9           1       1"
      ]
     },
     "execution_count": 4789,
     "metadata": {},
     "output_type": "execute_result"
    }
   ],
   "source": [
    "# Make a prediction using the testing data\n",
    "lr_testing_predictions = lr_model.predict(X_test)\n",
    "# Printing DataFrame of Actual and Predicted results\n",
    "lr_results = pd.DataFrame({\"Prediction\": lr_testing_predictions, \"Actual\": y_test}).reset_index(drop=True)\n",
    "lr_results.head(10)\n"
   ]
  },
  {
   "attachments": {},
   "cell_type": "markdown",
   "metadata": {},
   "source": [
    "### Step 3: Evaluate the model’s performance by doing the following:\n",
    "\n",
    "* Calculate the accuracy score of the model.\n",
    "\n",
    "* Generate a confusion matrix.\n",
    "\n",
    "* Print the classification report."
   ]
  },
  {
   "cell_type": "code",
   "execution_count": 4790,
   "metadata": {},
   "outputs": [
    {
     "data": {
      "text/plain": [
       "0.8226480836236933"
      ]
     },
     "execution_count": 4790,
     "metadata": {},
     "output_type": "execute_result"
    }
   ],
   "source": [
    "# Print the balanced_accuracy score of the model\n",
    "balanced_accuracy_score(y_test, lr_testing_predictions)"
   ]
  },
  {
   "cell_type": "code",
   "execution_count": 4791,
   "metadata": {},
   "outputs": [],
   "source": [
    "# Create and save the confusion matrix for the testing data\n",
    "lr_test_matrix = confusion_matrix(y_test, lr_testing_predictions)\n",
    "lr_df = pd.DataFrame(\n",
    "    lr_test_matrix, index=[\"Actual 0\", \"Actual 1\"], columns=[\"Predicted 0\", \"Predicted 1\"]\n",
    ")\n",
    "\n",
    "# Calculating the accuracy score\n",
    "lr_acc_score = accuracy_score(y_test, lr_testing_predictions)"
   ]
  },
  {
   "cell_type": "code",
   "execution_count": 4792,
   "metadata": {},
   "outputs": [
    {
     "name": "stdout",
     "output_type": "stream",
     "text": [
      "Confusion Matrix\n"
     ]
    },
    {
     "data": {
      "text/html": [
       "<div>\n",
       "<style scoped>\n",
       "    .dataframe tbody tr th:only-of-type {\n",
       "        vertical-align: middle;\n",
       "    }\n",
       "\n",
       "    .dataframe tbody tr th {\n",
       "        vertical-align: top;\n",
       "    }\n",
       "\n",
       "    .dataframe thead th {\n",
       "        text-align: right;\n",
       "    }\n",
       "</style>\n",
       "<table border=\"1\" class=\"dataframe\">\n",
       "  <thead>\n",
       "    <tr style=\"text-align: right;\">\n",
       "      <th></th>\n",
       "      <th>Predicted 0</th>\n",
       "      <th>Predicted 1</th>\n",
       "    </tr>\n",
       "  </thead>\n",
       "  <tbody>\n",
       "    <tr>\n",
       "      <th>Actual 0</th>\n",
       "      <td>26</td>\n",
       "      <td>9</td>\n",
       "    </tr>\n",
       "    <tr>\n",
       "      <th>Actual 1</th>\n",
       "      <td>4</td>\n",
       "      <td>37</td>\n",
       "    </tr>\n",
       "  </tbody>\n",
       "</table>\n",
       "</div>"
      ],
      "text/plain": [
       "          Predicted 0  Predicted 1\n",
       "Actual 0           26            9\n",
       "Actual 1            4           37"
      ]
     },
     "metadata": {},
     "output_type": "display_data"
    },
    {
     "name": "stdout",
     "output_type": "stream",
     "text": [
      "Accuracy Score : 0.8289473684210527\n",
      "Classification Report\n",
      "              precision    recall  f1-score   support\n",
      "\n",
      "           0       0.87      0.74      0.80        35\n",
      "           1       0.80      0.90      0.85        41\n",
      "\n",
      "    accuracy                           0.83        76\n",
      "   macro avg       0.84      0.82      0.83        76\n",
      "weighted avg       0.83      0.83      0.83        76\n",
      "\n"
     ]
    }
   ],
   "source": [
    "# Displaying results\n",
    "print(\"Confusion Matrix\")\n",
    "display(lr_df)\n",
    "print(f\"Accuracy Score : {lr_acc_score}\")\n",
    "print(\"Classification Report\")\n",
    "print(classification_report(y_test, lr_testing_predictions))"
   ]
  },
  {
   "attachments": {},
   "cell_type": "markdown",
   "metadata": {},
   "source": [
    "### Step 4: Answer the following question."
   ]
  },
  {
   "attachments": {},
   "cell_type": "markdown",
   "metadata": {},
   "source": [
    "**Question:** How well does the logistic regression model predict both the `0` (< 50% diameter narrowing. less chance of heart disease) and `1` (> 50% diameter narrowing. more chance of heart disease) labels?\n",
    "\n",
    "**Answer:** The logistic regression model was better at predicting the `1` label then the `0` labels. This may be due to the bias of data having 41 `1`s and only 35 `0`s. \n",
    "\n",
    "A balanced_accuracy_score of 82% makes one think that this is a good prediction model, as does the 83% accuracy score in the classification report.\n",
    "\n",
    "Based on the confusion matrix.\n",
    " - Total predictions = 76\n",
    " - Correct predictions = 63 (26 `0`s TN, 37 `1`s TP)\n",
    " - Incorrect predictions = 13 (9 `0`s FP, 4 `1`s at FN)\n",
    "\n",
    "Based on the classification report.\n",
    " - Precision: 20% of the time (0.80 precision score) the model predicted a false positive (predicted a `1` but was actually a `0`), hence 9 people (from the confusion matrix) were identified as more chance of heart disease when they were less chance of heart disease, predicting a FALSE ALARM (Type 1 error).\n",
    " - Recall: 10% of the time (0.90 recall score) the model predicted a false negative (predicted a `0` but was actually a `1`), hence 4 people (from the confusion matrix) who had more chance of heart disease have been MISSED in the prediction (Type 2 error)."
   ]
  },
  {
   "attachments": {},
   "cell_type": "markdown",
   "metadata": {},
   "source": [
    "## Use PCA to reduce the number of factors "
   ]
  },
  {
   "cell_type": "code",
   "execution_count": 4793,
   "metadata": {},
   "outputs": [],
   "source": [
    "# # heart_df_scaled = heart_df.drop(columns=\"output\")\n",
    "# heart_df_scaled = heart_df"
   ]
  },
  {
   "cell_type": "code",
   "execution_count": 4794,
   "metadata": {},
   "outputs": [],
   "source": [
    "# # Use the StandardScaler module from scikit-learn to normalize the data from the CSV file\n",
    "# # fit_transform function to scale all columns \n",
    "# heart_df_scaled = StandardScaler().fit_transform(heart_df_scaled)\n",
    "\n",
    "# # Diplay the first row of the scaled data\n",
    "# heart_df_scaled[0:1]"
   ]
  },
  {
   "cell_type": "code",
   "execution_count": 4795,
   "metadata": {},
   "outputs": [],
   "source": [
    "# # Create a DataFrame with the scaled data, excluding the target variable column \"output\"\n",
    "# heart_df_scaled = pd.DataFrame(heart_df_scaled, columns = ['age', 'sex', 'cp', 'trtbps', 'chol', 'fbs', 'restecg', 'thalachh',\n",
    "#        'exng', 'oldpeak', 'slp', 'caa', 'thall', 'output'])\n",
    "\n",
    "# # Display sample data\n",
    "# heart_df_scaled.head()"
   ]
  },
  {
   "cell_type": "code",
   "execution_count": 4796,
   "metadata": {},
   "outputs": [],
   "source": [
    "# # Separate the data into labels and features\n",
    "\n",
    "# # Separate the y variable, the labels\n",
    "# y = heart_df_scaled[\"output\"]\n",
    "\n",
    "# # Separate the X variable, the features\n",
    "# X = heart_df_scaled\n",
    "# # X = heart_df_scaled.drop(columns=['cp', 'trtbps', 'chol', 'restecg'])"
   ]
  },
  {
   "cell_type": "code",
   "execution_count": 4797,
   "metadata": {},
   "outputs": [],
   "source": [
    "# # Split the data using train_test_split\n",
    "# # Assign a random_state of 1 to the function\n",
    "# X_train, X_test, y_train, y_test = train_test_split(X, \n",
    "#                                                     y, \n",
    "#                                                     random_state=1)"
   ]
  },
  {
   "attachments": {},
   "cell_type": "markdown",
   "metadata": {},
   "source": [
    "## Use PCA to reduce the number of factors "
   ]
  },
  {
   "cell_type": "code",
   "execution_count": 4798,
   "metadata": {},
   "outputs": [],
   "source": [
    "# Instantiate the PCA instance and declare the number of PCA variables\n",
    "pca = PCA(n_components=2)"
   ]
  },
  {
   "cell_type": "code",
   "execution_count": 4799,
   "metadata": {},
   "outputs": [
    {
     "data": {
      "text/plain": [
       "array([[-12.26772602,   2.87000191],\n",
       "       [  2.68966168, -39.87386288],\n",
       "       [-42.9506397 , -23.63953003],\n",
       "       [-10.94520605, -28.44110112],\n",
       "       [106.97858286, -15.87943559]])"
      ]
     },
     "execution_count": 4799,
     "metadata": {},
     "output_type": "execute_result"
    }
   ],
   "source": [
    "# Fit the PCA model on the heart_df DataFrame\n",
    "heart_pca = pca.fit_transform(heart_df)\n",
    "\n",
    "# Review the first 5 rows of list data\n",
    "heart_pca[:5]"
   ]
  },
  {
   "cell_type": "code",
   "execution_count": 4800,
   "metadata": {},
   "outputs": [
    {
     "data": {
      "text/plain": [
       "array([0.74751318, 0.15037261])"
      ]
     },
     "execution_count": 4800,
     "metadata": {},
     "output_type": "execute_result"
    }
   ],
   "source": [
    "# Calculate the PCA explained variance ratio\n",
    "pca.explained_variance_ratio_"
   ]
  },
  {
   "cell_type": "code",
   "execution_count": 4801,
   "metadata": {},
   "outputs": [
    {
     "data": {
      "text/html": [
       "<div>\n",
       "<style scoped>\n",
       "    .dataframe tbody tr th:only-of-type {\n",
       "        vertical-align: middle;\n",
       "    }\n",
       "\n",
       "    .dataframe tbody tr th {\n",
       "        vertical-align: top;\n",
       "    }\n",
       "\n",
       "    .dataframe thead th {\n",
       "        text-align: right;\n",
       "    }\n",
       "</style>\n",
       "<table border=\"1\" class=\"dataframe\">\n",
       "  <thead>\n",
       "    <tr style=\"text-align: right;\">\n",
       "      <th></th>\n",
       "      <th>PCA1</th>\n",
       "      <th>PCA2</th>\n",
       "    </tr>\n",
       "  </thead>\n",
       "  <tbody>\n",
       "    <tr>\n",
       "      <th>0</th>\n",
       "      <td>-12.267726</td>\n",
       "      <td>2.870002</td>\n",
       "    </tr>\n",
       "    <tr>\n",
       "      <th>1</th>\n",
       "      <td>2.689662</td>\n",
       "      <td>-39.873863</td>\n",
       "    </tr>\n",
       "    <tr>\n",
       "      <th>2</th>\n",
       "      <td>-42.950640</td>\n",
       "      <td>-23.639530</td>\n",
       "    </tr>\n",
       "    <tr>\n",
       "      <th>3</th>\n",
       "      <td>-10.945206</td>\n",
       "      <td>-28.441101</td>\n",
       "    </tr>\n",
       "    <tr>\n",
       "      <th>4</th>\n",
       "      <td>106.978583</td>\n",
       "      <td>-15.879436</td>\n",
       "    </tr>\n",
       "  </tbody>\n",
       "</table>\n",
       "</div>"
      ],
      "text/plain": [
       "         PCA1       PCA2\n",
       "0  -12.267726   2.870002\n",
       "1    2.689662 -39.873863\n",
       "2  -42.950640 -23.639530\n",
       "3  -10.945206 -28.441101\n",
       "4  106.978583 -15.879436"
      ]
     },
     "execution_count": 4801,
     "metadata": {},
     "output_type": "execute_result"
    }
   ],
   "source": [
    "# Create the PCA DataFrame\n",
    "heart_pca_df = pd.DataFrame(\n",
    "    heart_pca,\n",
    "    columns=[\"PCA1\", \"PCA2\"]\n",
    ")\n",
    "\n",
    "# Review the PCA DataFrame\n",
    "heart_pca_df.head()"
   ]
  },
  {
   "cell_type": "code",
   "execution_count": 4802,
   "metadata": {},
   "outputs": [
    {
     "data": {
      "text/html": [
       "<div>\n",
       "<style scoped>\n",
       "    .dataframe tbody tr th:only-of-type {\n",
       "        vertical-align: middle;\n",
       "    }\n",
       "\n",
       "    .dataframe tbody tr th {\n",
       "        vertical-align: top;\n",
       "    }\n",
       "\n",
       "    .dataframe thead th {\n",
       "        text-align: right;\n",
       "    }\n",
       "</style>\n",
       "<table border=\"1\" class=\"dataframe\">\n",
       "  <thead>\n",
       "    <tr style=\"text-align: right;\">\n",
       "      <th></th>\n",
       "      <th>k</th>\n",
       "      <th>inertia</th>\n",
       "    </tr>\n",
       "  </thead>\n",
       "  <tbody>\n",
       "    <tr>\n",
       "      <th>0</th>\n",
       "      <td>1</td>\n",
       "      <td>977929.839679</td>\n",
       "    </tr>\n",
       "    <tr>\n",
       "      <th>1</th>\n",
       "      <td>2</td>\n",
       "      <td>494068.927479</td>\n",
       "    </tr>\n",
       "    <tr>\n",
       "      <th>2</th>\n",
       "      <td>3</td>\n",
       "      <td>361237.742162</td>\n",
       "    </tr>\n",
       "    <tr>\n",
       "      <th>3</th>\n",
       "      <td>4</td>\n",
       "      <td>281487.472855</td>\n",
       "    </tr>\n",
       "    <tr>\n",
       "      <th>4</th>\n",
       "      <td>5</td>\n",
       "      <td>221882.528456</td>\n",
       "    </tr>\n",
       "  </tbody>\n",
       "</table>\n",
       "</div>"
      ],
      "text/plain": [
       "   k        inertia\n",
       "0  1  977929.839679\n",
       "1  2  494068.927479\n",
       "2  3  361237.742162\n",
       "3  4  281487.472855\n",
       "4  5  221882.528456"
      ]
     },
     "execution_count": 4802,
     "metadata": {},
     "output_type": "execute_result"
    }
   ],
   "source": [
    "# Create a a list to store inertia values and the values of k\n",
    "inertia = []\n",
    "k = list(range(1, 11))\n",
    "\n",
    "# Append the value of the computed inertia from the `inertia_` attribute of teh KMeans model instance\n",
    "for i in k:\n",
    "    k_model = KMeans(n_clusters=i, random_state=1)\n",
    "    k_model.fit(heart_pca_df)\n",
    "    inertia.append(k_model.inertia_)\n",
    "\n",
    "# Define a DataFrame to hold the values for k and the corresponding inertia\n",
    "elbow_data = {\"k\": k, \"inertia\": inertia}\n",
    "df_elbow = pd.DataFrame(elbow_data)\n",
    "\n",
    "# Review the DataFrame\n",
    "df_elbow.head()"
   ]
  },
  {
   "cell_type": "code",
   "execution_count": 4803,
   "metadata": {},
   "outputs": [
    {
     "data": {},
     "metadata": {},
     "output_type": "display_data"
    },
    {
     "data": {
      "application/vnd.holoviews_exec.v0+json": "",
      "text/html": [
       "<div id='9454'>\n",
       "  <div class=\"bk-root\" id=\"8f0abb78-e1a3-4f32-bf0b-a47970be4763\" data-root-id=\"9454\"></div>\n",
       "</div>\n",
       "<script type=\"application/javascript\">(function(root) {\n",
       "  function embed_document(root) {\n",
       "    var docs_json = {\"650bc09a-9d7f-4862-aeaf-37c7e07ab4cf\":{\"defs\":[{\"extends\":null,\"module\":null,\"name\":\"ReactiveHTML1\",\"overrides\":[],\"properties\":[]},{\"extends\":null,\"module\":null,\"name\":\"FlexBox1\",\"overrides\":[],\"properties\":[{\"default\":\"flex-start\",\"kind\":null,\"name\":\"align_content\"},{\"default\":\"flex-start\",\"kind\":null,\"name\":\"align_items\"},{\"default\":\"row\",\"kind\":null,\"name\":\"flex_direction\"},{\"default\":\"wrap\",\"kind\":null,\"name\":\"flex_wrap\"},{\"default\":\"flex-start\",\"kind\":null,\"name\":\"justify_content\"}]},{\"extends\":null,\"module\":null,\"name\":\"GridStack1\",\"overrides\":[],\"properties\":[{\"default\":\"warn\",\"kind\":null,\"name\":\"mode\"},{\"default\":null,\"kind\":null,\"name\":\"ncols\"},{\"default\":null,\"kind\":null,\"name\":\"nrows\"},{\"default\":true,\"kind\":null,\"name\":\"allow_resize\"},{\"default\":true,\"kind\":null,\"name\":\"allow_drag\"},{\"default\":[],\"kind\":null,\"name\":\"state\"}]},{\"extends\":null,\"module\":null,\"name\":\"click1\",\"overrides\":[],\"properties\":[{\"default\":\"\",\"kind\":null,\"name\":\"terminal_output\"},{\"default\":\"\",\"kind\":null,\"name\":\"debug_name\"},{\"default\":0,\"kind\":null,\"name\":\"clears\"}]},{\"extends\":null,\"module\":null,\"name\":\"NotificationAreaBase1\",\"overrides\":[],\"properties\":[{\"default\":\"bottom-right\",\"kind\":null,\"name\":\"position\"},{\"default\":0,\"kind\":null,\"name\":\"_clear\"}]},{\"extends\":null,\"module\":null,\"name\":\"NotificationArea1\",\"overrides\":[],\"properties\":[{\"default\":[],\"kind\":null,\"name\":\"notifications\"},{\"default\":\"bottom-right\",\"kind\":null,\"name\":\"position\"},{\"default\":0,\"kind\":null,\"name\":\"_clear\"},{\"default\":[{\"background\":\"#ffc107\",\"icon\":{\"className\":\"fas fa-exclamation-triangle\",\"color\":\"white\",\"tagName\":\"i\"},\"type\":\"warning\"},{\"background\":\"#007bff\",\"icon\":{\"className\":\"fas fa-info-circle\",\"color\":\"white\",\"tagName\":\"i\"},\"type\":\"info\"}],\"kind\":null,\"name\":\"types\"}]},{\"extends\":null,\"module\":null,\"name\":\"Notification\",\"overrides\":[],\"properties\":[{\"default\":null,\"kind\":null,\"name\":\"background\"},{\"default\":3000,\"kind\":null,\"name\":\"duration\"},{\"default\":null,\"kind\":null,\"name\":\"icon\"},{\"default\":\"\",\"kind\":null,\"name\":\"message\"},{\"default\":null,\"kind\":null,\"name\":\"notification_type\"},{\"default\":false,\"kind\":null,\"name\":\"_destroyed\"}]},{\"extends\":null,\"module\":null,\"name\":\"TemplateActions1\",\"overrides\":[],\"properties\":[{\"default\":0,\"kind\":null,\"name\":\"open_modal\"},{\"default\":0,\"kind\":null,\"name\":\"close_modal\"}]},{\"extends\":null,\"module\":null,\"name\":\"MaterialTemplateActions1\",\"overrides\":[],\"properties\":[{\"default\":0,\"kind\":null,\"name\":\"open_modal\"},{\"default\":0,\"kind\":null,\"name\":\"close_modal\"}]}],\"roots\":{\"references\":[{\"attributes\":{\"coordinates\":null,\"data_source\":{\"id\":\"9489\"},\"glyph\":{\"id\":\"9492\"},\"group\":null,\"hover_glyph\":null,\"muted_glyph\":{\"id\":\"9494\"},\"nonselection_glyph\":{\"id\":\"9493\"},\"selection_glyph\":{\"id\":\"9497\"},\"view\":{\"id\":\"9496\"}},\"id\":\"9495\",\"type\":\"GlyphRenderer\"},{\"attributes\":{\"axis_label\":\"k\",\"coordinates\":null,\"formatter\":{\"id\":\"9500\"},\"group\":null,\"major_label_policy\":{\"id\":\"9501\"},\"ticker\":{\"id\":\"9498\"}},\"id\":\"9468\",\"type\":\"LinearAxis\"},{\"attributes\":{\"line_alpha\":0.1,\"line_color\":\"#30a2da\",\"line_width\":2,\"x\":{\"field\":\"k\"},\"y\":{\"field\":\"inertia\"}},\"id\":\"9493\",\"type\":\"Line\"},{\"attributes\":{\"axis\":{\"id\":\"9472\"},\"coordinates\":null,\"dimension\":1,\"grid_line_color\":null,\"group\":null,\"ticker\":null},\"id\":\"9475\",\"type\":\"Grid\"},{\"attributes\":{},\"id\":\"9480\",\"type\":\"ResetTool\"},{\"attributes\":{\"callback\":null,\"renderers\":[{\"id\":\"9495\"}],\"tags\":[\"hv_created\"],\"tooltips\":[[\"k\",\"@{k}\"],[\"inertia\",\"@{inertia}\"]]},\"id\":\"9458\",\"type\":\"HoverTool\"},{\"attributes\":{},\"id\":\"9517\",\"type\":\"UnionRenderers\"},{\"attributes\":{\"source\":{\"id\":\"9489\"}},\"id\":\"9496\",\"type\":\"CDSView\"},{\"attributes\":{},\"id\":\"9478\",\"type\":\"WheelZoomTool\"},{\"attributes\":{},\"id\":\"9500\",\"type\":\"BasicTickFormatter\"},{\"attributes\":{\"line_color\":\"#30a2da\",\"line_width\":2,\"x\":{\"field\":\"k\"},\"y\":{\"field\":\"inertia\"}},\"id\":\"9497\",\"type\":\"Line\"},{\"attributes\":{\"coordinates\":null,\"group\":null,\"text\":\"Elbow Curve\",\"text_color\":\"black\",\"text_font_size\":\"12pt\"},\"id\":\"9460\",\"type\":\"Title\"},{\"attributes\":{\"overlay\":{\"id\":\"9481\"}},\"id\":\"9479\",\"type\":\"BoxZoomTool\"},{\"attributes\":{},\"id\":\"9501\",\"type\":\"AllLabels\"},{\"attributes\":{\"below\":[{\"id\":\"9468\"}],\"center\":[{\"id\":\"9471\"},{\"id\":\"9475\"}],\"height\":300,\"left\":[{\"id\":\"9472\"}],\"margin\":[5,5,5,5],\"min_border_bottom\":10,\"min_border_left\":10,\"min_border_right\":10,\"min_border_top\":10,\"renderers\":[{\"id\":\"9495\"}],\"sizing_mode\":\"fixed\",\"title\":{\"id\":\"9460\"},\"toolbar\":{\"id\":\"9482\"},\"width\":700,\"x_range\":{\"id\":\"9456\"},\"x_scale\":{\"id\":\"9464\"},\"y_range\":{\"id\":\"9457\"},\"y_scale\":{\"id\":\"9466\"}},\"id\":\"9459\",\"subtype\":\"Figure\",\"type\":\"Plot\"},{\"attributes\":{},\"id\":\"9464\",\"type\":\"LinearScale\"},{\"attributes\":{},\"id\":\"9477\",\"type\":\"PanTool\"},{\"attributes\":{\"bottom_units\":\"screen\",\"coordinates\":null,\"fill_alpha\":0.5,\"fill_color\":\"lightgrey\",\"group\":null,\"left_units\":\"screen\",\"level\":\"overlay\",\"line_alpha\":1.0,\"line_color\":\"black\",\"line_dash\":[4,4],\"line_width\":2,\"right_units\":\"screen\",\"syncable\":false,\"top_units\":\"screen\"},\"id\":\"9481\",\"type\":\"BoxAnnotation\"},{\"attributes\":{\"end\":1065233.0793323857,\"reset_end\":1065233.0793323857,\"reset_start\":17594.20348814047,\"start\":17594.20348814047,\"tags\":[[[\"inertia\",\"inertia\",null]]]},\"id\":\"9457\",\"type\":\"Range1d\"},{\"attributes\":{\"margin\":[5,5,5,5],\"name\":\"HSpacer08544\",\"sizing_mode\":\"stretch_width\"},\"id\":\"9520\",\"type\":\"Spacer\"},{\"attributes\":{\"data\":{\"inertia\":{\"__ndarray__\":\"zF3qrRPYLUHY87y10yceQQpK+fdWDBZBjg805D0uEUGo80Y61BULQaTHCuUeSwZBIhQGzbtSA0FW5x4gMeUAQS4HbgvKDf1Aj+IbFxec+UA=\",\"dtype\":\"float64\",\"order\":\"little\",\"shape\":[10]},\"k\":[1,2,3,4,5,6,7,8,9,10]},\"selected\":{\"id\":\"9490\"},\"selection_policy\":{\"id\":\"9517\"}},\"id\":\"9489\",\"type\":\"ColumnDataSource\"},{\"attributes\":{},\"id\":\"9506\",\"type\":\"AllLabels\"},{\"attributes\":{\"children\":[{\"id\":\"9455\"},{\"id\":\"9459\"},{\"id\":\"9520\"}],\"margin\":[0,0,0,0],\"name\":\"Row08539\",\"tags\":[\"embedded\"]},\"id\":\"9454\",\"type\":\"Row\"},{\"attributes\":{\"axis\":{\"id\":\"9468\"},\"coordinates\":null,\"grid_line_color\":null,\"group\":null,\"ticker\":null},\"id\":\"9471\",\"type\":\"Grid\"},{\"attributes\":{},\"id\":\"9476\",\"type\":\"SaveTool\"},{\"attributes\":{\"margin\":[5,5,5,5],\"name\":\"HSpacer08543\",\"sizing_mode\":\"stretch_width\"},\"id\":\"9455\",\"type\":\"Spacer\"},{\"attributes\":{},\"id\":\"9505\",\"type\":\"BasicTickFormatter\"},{\"attributes\":{\"ticks\":[1,2,3,4,5,6,7,8,9,10]},\"id\":\"9498\",\"type\":\"FixedTicker\"},{\"attributes\":{\"end\":10.0,\"reset_end\":10.0,\"reset_start\":1.0,\"start\":1.0,\"tags\":[[[\"k\",\"k\",null]]]},\"id\":\"9456\",\"type\":\"Range1d\"},{\"attributes\":{\"active_drag\":{\"id\":\"9477\"},\"active_scroll\":{\"id\":\"9478\"},\"tools\":[{\"id\":\"9458\"},{\"id\":\"9476\"},{\"id\":\"9477\"},{\"id\":\"9478\"},{\"id\":\"9479\"},{\"id\":\"9480\"}]},\"id\":\"9482\",\"type\":\"Toolbar\"},{\"attributes\":{\"axis_label\":\"inertia\",\"coordinates\":null,\"formatter\":{\"id\":\"9505\"},\"group\":null,\"major_label_policy\":{\"id\":\"9506\"},\"ticker\":{\"id\":\"9473\"}},\"id\":\"9472\",\"type\":\"LinearAxis\"},{\"attributes\":{\"line_alpha\":0.2,\"line_color\":\"#30a2da\",\"line_width\":2,\"x\":{\"field\":\"k\"},\"y\":{\"field\":\"inertia\"}},\"id\":\"9494\",\"type\":\"Line\"},{\"attributes\":{},\"id\":\"9466\",\"type\":\"LinearScale\"},{\"attributes\":{},\"id\":\"9473\",\"type\":\"BasicTicker\"},{\"attributes\":{},\"id\":\"9490\",\"type\":\"Selection\"},{\"attributes\":{\"line_color\":\"#30a2da\",\"line_width\":2,\"x\":{\"field\":\"k\"},\"y\":{\"field\":\"inertia\"}},\"id\":\"9492\",\"type\":\"Line\"}],\"root_ids\":[\"9454\"]},\"title\":\"Bokeh Application\",\"version\":\"2.4.3\"}};\n",
       "    var render_items = [{\"docid\":\"650bc09a-9d7f-4862-aeaf-37c7e07ab4cf\",\"root_ids\":[\"9454\"],\"roots\":{\"9454\":\"8f0abb78-e1a3-4f32-bf0b-a47970be4763\"}}];\n",
       "    root.Bokeh.embed.embed_items_notebook(docs_json, render_items);\n",
       "    for (const render_item of render_items) {\n",
       "      for (const root_id of render_item.root_ids) {\n",
       "\tconst id_el = document.getElementById(root_id)\n",
       "\tif (id_el.children.length && (id_el.children[0].className === 'bk-root')) {\n",
       "\t  const root_el = id_el.children[0]\n",
       "\t  root_el.id = root_el.id + '-rendered'\n",
       "\t}\n",
       "      }\n",
       "    }\n",
       "  }\n",
       "  if (root.Bokeh !== undefined && root.Bokeh.Panel !== undefined) {\n",
       "    embed_document(root);\n",
       "  } else {\n",
       "    var attempts = 0;\n",
       "    var timer = setInterval(function(root) {\n",
       "      if (root.Bokeh !== undefined && root.Bokeh.Panel !== undefined) {\n",
       "        clearInterval(timer);\n",
       "        embed_document(root);\n",
       "      } else if (document.readyState == \"complete\") {\n",
       "        attempts++;\n",
       "        if (attempts > 200) {\n",
       "          clearInterval(timer);\n",
       "          console.log(\"Bokeh: ERROR: Unable to run BokehJS code because BokehJS library is missing\");\n",
       "        }\n",
       "      }\n",
       "    }, 25, root)\n",
       "  }\n",
       "})(window);</script>"
      ],
      "text/plain": [
       ":Curve   [k]   (inertia)"
      ]
     },
     "execution_count": 4803,
     "metadata": {
      "application/vnd.holoviews_exec.v0+json": {
       "id": "9454"
      }
     },
     "output_type": "execute_result"
    }
   ],
   "source": [
    "# Plot the Elbow Curve\n",
    "df_elbow.hvplot.line(\n",
    "    x=\"k\", \n",
    "    y=\"inertia\", \n",
    "    title=\"Elbow Curve\", \n",
    "    xticks=k\n",
    ")"
   ]
  },
  {
   "cell_type": "code",
   "execution_count": 4804,
   "metadata": {},
   "outputs": [],
   "source": [
    "# Define the model with 3 clusters\n",
    "model = KMeans(n_clusters=3, random_state=0)\n",
    "\n",
    "# Fit the model\n",
    "model.fit(heart_pca_df)\n",
    "\n",
    "# Make predictions\n",
    "k_3 = model.predict(heart_pca_df)\n",
    "\n",
    "# Create a copy of the PCA DataFrame\n",
    "heart_pca_predictions_df = heart_pca_df.copy()\n",
    "\n",
    "# Add a class column with the labels\n",
    "heart_pca_predictions_df[\"feature_segments\"] = k_3"
   ]
  },
  {
   "cell_type": "code",
   "execution_count": 4805,
   "metadata": {},
   "outputs": [
    {
     "data": {},
     "metadata": {},
     "output_type": "display_data"
    },
    {
     "data": {
      "application/vnd.holoviews_exec.v0+json": "",
      "text/html": [
       "<div id='9567'>\n",
       "  <div class=\"bk-root\" id=\"525858a8-d467-44d9-a4c1-b1d7a226b4b0\" data-root-id=\"9567\"></div>\n",
       "</div>\n",
       "<script type=\"application/javascript\">(function(root) {\n",
       "  function embed_document(root) {\n",
       "    var docs_json = {\"bdcc287e-1c3d-4854-bd95-46025a468f40\":{\"defs\":[{\"extends\":null,\"module\":null,\"name\":\"ReactiveHTML1\",\"overrides\":[],\"properties\":[]},{\"extends\":null,\"module\":null,\"name\":\"FlexBox1\",\"overrides\":[],\"properties\":[{\"default\":\"flex-start\",\"kind\":null,\"name\":\"align_content\"},{\"default\":\"flex-start\",\"kind\":null,\"name\":\"align_items\"},{\"default\":\"row\",\"kind\":null,\"name\":\"flex_direction\"},{\"default\":\"wrap\",\"kind\":null,\"name\":\"flex_wrap\"},{\"default\":\"flex-start\",\"kind\":null,\"name\":\"justify_content\"}]},{\"extends\":null,\"module\":null,\"name\":\"GridStack1\",\"overrides\":[],\"properties\":[{\"default\":\"warn\",\"kind\":null,\"name\":\"mode\"},{\"default\":null,\"kind\":null,\"name\":\"ncols\"},{\"default\":null,\"kind\":null,\"name\":\"nrows\"},{\"default\":true,\"kind\":null,\"name\":\"allow_resize\"},{\"default\":true,\"kind\":null,\"name\":\"allow_drag\"},{\"default\":[],\"kind\":null,\"name\":\"state\"}]},{\"extends\":null,\"module\":null,\"name\":\"click1\",\"overrides\":[],\"properties\":[{\"default\":\"\",\"kind\":null,\"name\":\"terminal_output\"},{\"default\":\"\",\"kind\":null,\"name\":\"debug_name\"},{\"default\":0,\"kind\":null,\"name\":\"clears\"}]},{\"extends\":null,\"module\":null,\"name\":\"NotificationAreaBase1\",\"overrides\":[],\"properties\":[{\"default\":\"bottom-right\",\"kind\":null,\"name\":\"position\"},{\"default\":0,\"kind\":null,\"name\":\"_clear\"}]},{\"extends\":null,\"module\":null,\"name\":\"NotificationArea1\",\"overrides\":[],\"properties\":[{\"default\":[],\"kind\":null,\"name\":\"notifications\"},{\"default\":\"bottom-right\",\"kind\":null,\"name\":\"position\"},{\"default\":0,\"kind\":null,\"name\":\"_clear\"},{\"default\":[{\"background\":\"#ffc107\",\"icon\":{\"className\":\"fas fa-exclamation-triangle\",\"color\":\"white\",\"tagName\":\"i\"},\"type\":\"warning\"},{\"background\":\"#007bff\",\"icon\":{\"className\":\"fas fa-info-circle\",\"color\":\"white\",\"tagName\":\"i\"},\"type\":\"info\"}],\"kind\":null,\"name\":\"types\"}]},{\"extends\":null,\"module\":null,\"name\":\"Notification\",\"overrides\":[],\"properties\":[{\"default\":null,\"kind\":null,\"name\":\"background\"},{\"default\":3000,\"kind\":null,\"name\":\"duration\"},{\"default\":null,\"kind\":null,\"name\":\"icon\"},{\"default\":\"\",\"kind\":null,\"name\":\"message\"},{\"default\":null,\"kind\":null,\"name\":\"notification_type\"},{\"default\":false,\"kind\":null,\"name\":\"_destroyed\"}]},{\"extends\":null,\"module\":null,\"name\":\"TemplateActions1\",\"overrides\":[],\"properties\":[{\"default\":0,\"kind\":null,\"name\":\"open_modal\"},{\"default\":0,\"kind\":null,\"name\":\"close_modal\"}]},{\"extends\":null,\"module\":null,\"name\":\"MaterialTemplateActions1\",\"overrides\":[],\"properties\":[{\"default\":0,\"kind\":null,\"name\":\"open_modal\"},{\"default\":0,\"kind\":null,\"name\":\"close_modal\"}]}],\"roots\":{\"references\":[{\"attributes\":{\"margin\":[5,5,5,5],\"name\":\"HSpacer08697\",\"sizing_mode\":\"stretch_width\"},\"id\":\"9695\",\"type\":\"Spacer\"},{\"attributes\":{\"overlay\":{\"id\":\"9596\"}},\"id\":\"9594\",\"type\":\"BoxZoomTool\"},{\"attributes\":{},\"id\":\"9605\",\"type\":\"BasicTickFormatter\"},{\"attributes\":{\"fill_alpha\":{\"value\":0.2},\"fill_color\":{\"value\":\"#e5ae38\"},\"hatch_alpha\":{\"value\":0.2},\"hatch_color\":{\"value\":\"#e5ae38\"},\"line_alpha\":{\"value\":0.2},\"line_color\":{\"value\":\"#e5ae38\"},\"size\":{\"value\":5.477225575051661},\"x\":{\"field\":\"PCA1\"},\"y\":{\"field\":\"PCA2\"}},\"id\":\"9658\",\"type\":\"Scatter\"},{\"attributes\":{\"coordinates\":null,\"group\":null,\"text_color\":\"black\",\"text_font_size\":\"12pt\"},\"id\":\"9575\",\"type\":\"Title\"},{\"attributes\":{\"coordinates\":null,\"data_source\":{\"id\":\"9653\"},\"glyph\":{\"id\":\"9656\"},\"group\":null,\"hover_glyph\":null,\"muted_glyph\":{\"id\":\"9658\"},\"nonselection_glyph\":{\"id\":\"9657\"},\"selection_glyph\":{\"id\":\"9676\"},\"view\":{\"id\":\"9660\"}},\"id\":\"9659\",\"type\":\"GlyphRenderer\"},{\"attributes\":{\"source\":{\"id\":\"9631\"}},\"id\":\"9638\",\"type\":\"CDSView\"},{\"attributes\":{},\"id\":\"9609\",\"type\":\"AllLabels\"},{\"attributes\":{},\"id\":\"9648\",\"type\":\"UnionRenderers\"},{\"attributes\":{\"fill_alpha\":{\"value\":0.1},\"fill_color\":{\"value\":\"#e5ae38\"},\"hatch_alpha\":{\"value\":0.1},\"hatch_color\":{\"value\":\"#e5ae38\"},\"line_alpha\":{\"value\":0.1},\"line_color\":{\"value\":\"#e5ae38\"},\"size\":{\"value\":5.477225575051661},\"x\":{\"field\":\"PCA1\"},\"y\":{\"field\":\"PCA2\"}},\"id\":\"9657\",\"type\":\"Scatter\"},{\"attributes\":{},\"id\":\"9595\",\"type\":\"ResetTool\"},{\"attributes\":{\"end\":91.46345203997193,\"reset_end\":91.46345203997193,\"reset_start\":-68.49414269658449,\"start\":-68.49414269658449,\"tags\":[[[\"PCA2\",\"PCA2\",null]]]},\"id\":\"9570\",\"type\":\"Range1d\"},{\"attributes\":{\"coordinates\":null,\"data_source\":{\"id\":\"9631\"},\"glyph\":{\"id\":\"9634\"},\"group\":null,\"hover_glyph\":null,\"muted_glyph\":{\"id\":\"9636\"},\"nonselection_glyph\":{\"id\":\"9635\"},\"selection_glyph\":{\"id\":\"9652\"},\"view\":{\"id\":\"9638\"}},\"id\":\"9637\",\"type\":\"GlyphRenderer\"},{\"attributes\":{\"source\":{\"id\":\"9610\"}},\"id\":\"9617\",\"type\":\"CDSView\"},{\"attributes\":{\"angle\":{\"value\":0.0},\"fill_alpha\":{\"value\":1.0},\"fill_color\":{\"value\":\"#e5ae38\"},\"hatch_alpha\":{\"value\":1.0},\"hatch_color\":{\"value\":\"#e5ae38\"},\"hatch_scale\":{\"value\":12.0},\"hatch_weight\":{\"value\":1.0},\"line_alpha\":{\"value\":1.0},\"line_cap\":{\"value\":\"butt\"},\"line_color\":{\"value\":\"#e5ae38\"},\"line_dash\":{\"value\":[]},\"line_dash_offset\":{\"value\":0},\"line_join\":{\"value\":\"bevel\"},\"line_width\":{\"value\":1},\"marker\":{\"value\":\"circle\"},\"size\":{\"value\":5.477225575051661},\"x\":{\"field\":\"PCA1\"},\"y\":{\"field\":\"PCA2\"}},\"id\":\"9676\",\"type\":\"Scatter\"},{\"attributes\":{},\"id\":\"9581\",\"type\":\"LinearScale\"},{\"attributes\":{\"fill_alpha\":{\"value\":0.2},\"fill_color\":{\"value\":\"#fc4f30\"},\"hatch_alpha\":{\"value\":0.2},\"hatch_color\":{\"value\":\"#fc4f30\"},\"line_alpha\":{\"value\":0.2},\"line_color\":{\"value\":\"#fc4f30\"},\"size\":{\"value\":5.477225575051661},\"x\":{\"field\":\"PCA1\"},\"y\":{\"field\":\"PCA2\"}},\"id\":\"9636\",\"type\":\"Scatter\"},{\"attributes\":{\"bottom_units\":\"screen\",\"coordinates\":null,\"fill_alpha\":0.5,\"fill_color\":\"lightgrey\",\"group\":null,\"left_units\":\"screen\",\"level\":\"overlay\",\"line_alpha\":1.0,\"line_color\":\"black\",\"line_dash\":[4,4],\"line_width\":2,\"right_units\":\"screen\",\"syncable\":false,\"top_units\":\"screen\"},\"id\":\"9596\",\"type\":\"BoxAnnotation\"},{\"attributes\":{},\"id\":\"9593\",\"type\":\"WheelZoomTool\"},{\"attributes\":{\"axis_label\":\"PCA1\",\"coordinates\":null,\"formatter\":{\"id\":\"9605\"},\"group\":null,\"major_label_policy\":{\"id\":\"9606\"},\"ticker\":{\"id\":\"9584\"}},\"id\":\"9583\",\"type\":\"LinearAxis\"},{\"attributes\":{\"fill_color\":{\"value\":\"#fc4f30\"},\"hatch_color\":{\"value\":\"#fc4f30\"},\"line_color\":{\"value\":\"#fc4f30\"},\"size\":{\"value\":5.477225575051661},\"x\":{\"field\":\"PCA1\"},\"y\":{\"field\":\"PCA2\"}},\"id\":\"9634\",\"type\":\"Scatter\"},{\"attributes\":{\"label\":{\"value\":\"0\"},\"renderers\":[{\"id\":\"9616\"}]},\"id\":\"9629\",\"type\":\"LegendItem\"},{\"attributes\":{},\"id\":\"9608\",\"type\":\"BasicTickFormatter\"},{\"attributes\":{\"axis\":{\"id\":\"9587\"},\"coordinates\":null,\"dimension\":1,\"grid_line_color\":null,\"group\":null,\"ticker\":null},\"id\":\"9590\",\"type\":\"Grid\"},{\"attributes\":{},\"id\":\"9606\",\"type\":\"AllLabels\"},{\"attributes\":{\"coordinates\":null,\"data_source\":{\"id\":\"9610\"},\"glyph\":{\"id\":\"9613\"},\"group\":null,\"hover_glyph\":null,\"muted_glyph\":{\"id\":\"9615\"},\"nonselection_glyph\":{\"id\":\"9614\"},\"selection_glyph\":{\"id\":\"9630\"},\"view\":{\"id\":\"9617\"}},\"id\":\"9616\",\"type\":\"GlyphRenderer\"},{\"attributes\":{\"fill_alpha\":{\"value\":0.1},\"fill_color\":{\"value\":\"#fc4f30\"},\"hatch_alpha\":{\"value\":0.1},\"hatch_color\":{\"value\":\"#fc4f30\"},\"line_alpha\":{\"value\":0.1},\"line_color\":{\"value\":\"#fc4f30\"},\"size\":{\"value\":5.477225575051661},\"x\":{\"field\":\"PCA1\"},\"y\":{\"field\":\"PCA2\"}},\"id\":\"9635\",\"type\":\"Scatter\"},{\"attributes\":{},\"id\":\"9584\",\"type\":\"BasicTicker\"},{\"attributes\":{\"axis\":{\"id\":\"9583\"},\"coordinates\":null,\"grid_line_color\":null,\"group\":null,\"ticker\":null},\"id\":\"9586\",\"type\":\"Grid\"},{\"attributes\":{\"angle\":{\"value\":0.0},\"fill_alpha\":{\"value\":1.0},\"fill_color\":{\"value\":\"#fc4f30\"},\"hatch_alpha\":{\"value\":1.0},\"hatch_color\":{\"value\":\"#fc4f30\"},\"hatch_scale\":{\"value\":12.0},\"hatch_weight\":{\"value\":1.0},\"line_alpha\":{\"value\":1.0},\"line_cap\":{\"value\":\"butt\"},\"line_color\":{\"value\":\"#fc4f30\"},\"line_dash\":{\"value\":[]},\"line_dash_offset\":{\"value\":0},\"line_join\":{\"value\":\"bevel\"},\"line_width\":{\"value\":1},\"marker\":{\"value\":\"circle\"},\"size\":{\"value\":5.477225575051661},\"x\":{\"field\":\"PCA1\"},\"y\":{\"field\":\"PCA2\"}},\"id\":\"9652\",\"type\":\"Scatter\"},{\"attributes\":{},\"id\":\"9588\",\"type\":\"BasicTicker\"},{\"attributes\":{\"label\":{\"value\":\"1\"},\"renderers\":[{\"id\":\"9637\"}]},\"id\":\"9651\",\"type\":\"LegendItem\"},{\"attributes\":{\"axis_label\":\"PCA2\",\"coordinates\":null,\"formatter\":{\"id\":\"9608\"},\"group\":null,\"major_label_policy\":{\"id\":\"9609\"},\"ticker\":{\"id\":\"9588\"}},\"id\":\"9587\",\"type\":\"LinearAxis\"},{\"attributes\":{\"data\":{\"PCA1\":{\"__ndarray__\":\"qSR4YhOJKMCNOI5XbYQFQDYPNQzy4yXAtRuvu5YhL0DWUjsQS8YbwBTZwrrwbDxAZcU2bU4/M0B8wQg9TMtCQMsr6/KPoTLAUwoPh0cI8D85cHDpZyMZwGnaH0SO9ifAy1om7UHkK8BlmMsfnEIAwJgS46OcVTpAhSSuTUL7KsDKmdXgejs4QBohdv/8D/2/aIbp6KyeMUBpUO7rKvYmwKTae7g5WiVAmFDX0TQiKMCBwd/pvwQjQEm8P4+v9i3ACDWA4P87GECzDi5UtpIoQF7mu25QeDJAhInmFJ6/KcD3xXaZ7VImQJSGJeagaC1AK4TFzWqmDkBH0Xqbdk39v6n5iTFrox3Aia4wtApcAEBw4KaFkwExQBi4O4etjT5A3zcdAJJu4j+7F02w86gfQNUZa5IMgDPAB/TATxreLMBVyxmwFCTiv52mTWNQbwHAkpsZC0gdOkB1AdeYN34ewFgQ7W/1WyTAFkvHAy2nJMBmiU6H754IwDD5TFyQzRlA7BzclrY3L0AHOERhWGgKwE7uNxso7zhAXzS/6rwQNECxClnYF20zQEUqobkH+j9AsVF1QwEgN0Db4NbOx344QCAlJ6H/pynApnpdz4dNNkC8HBaPcz0xQOImMNzW8+E/cVCbaHg+FcDGNMPYvUQVwCuJ0O9JVTDAGKW+JFQQMcCvhmWCOGZAQK53EEekhxhAWZxdI+uMG8BBvut//+hEQBXsUj4qIDHAh0Jw23tTNkDb4KKe2wMgQE0L3HdUhCNAWJrMDqSlMsBFuid4mpZCQDTt9cAjxzDA+bsBPTzvPkB6oxeogagzwNox5TI8IjHADcZ4G28jA8BFT8imDKYbQIAkiqL3nzNAXnONG2s5KsAJOemVa0tCQFeIblibVy3AkX2W+IA7H0Be7r1pPdI0QEBKJgZ4A/E/vwDUfFFhJ0C6LpIIfP44QP3mYQcMhT5AwbfKBKa9IEBoBssiSBIgwJ0FFy9chylAj4mWJF5NMcDKkqB2OP0qQF1d0MghMgRAU8tko8FQMUA3n3J5avIgQPB4ltOfxyJAsxyxmqcaQkBeRGd7tjogwIEB0v6GYUFAZ6QxhBvIEsALFqKL4Bujv1hTtXhaS0FA1CqZMhXwOEB39Zexm+oTQKjrjEA7Nj1AAY+ATNnyOkCtXiRI4Tn8P2i4RLPXdCFApvuJi9gJ1z/mMlUCn2Q8QJAeD4hZqylAAeMgD+3S8b8jk7vg6KswwMOfg0HtVi/AlcT5cDdWMcA1zMyR/81BQCivrQFpxTVA23ego224Q0C/6siEyX9CQOTaA8R8Pv4/R8Bqcc6pJ8BtWTW3DHIhwJOtEOXUSyvASn7wI4qYO0Dlyz1j8AQtQCHBJfogWSrAW6zQbwo4M8CGgWRy4DYSwC7whMSxbTBA0TC10prKJMA=\",\"dtype\":\"float64\",\"order\":\"little\",\"shape\":[133]},\"PCA2\":{\"__ndarray__\":\"m3eXj8P1BkDMESO92u9DwB/6wgDscDzAK7Io6S5HOsAO74LQklsiwJc3EfC97iBATHK3nblsNsCLalU99YUkwEDVEMuRoENAmhawzBALNcAwTZ3CxLkCQHr1n6xNVSPA1/0gBR2FPsD+4VP9xQovQIbGgjD3rgzACGrZIAbPKcAnZ5AA/vcVQALa3goU/T7AOoEL/Q7kFkAMttb33oI+wC6X3xwEmBzAsZvrWDv8IsAYdEgG+H7Yv4jIt29XaxRA3OnIlj4VNMDM5Yv2uSJDwEkhAUahkzNAbil4P+JtOsCsnI56z9jwP3zPghYnyUHA73XIw+VoJcCtoPID+EAxwIKAjpTxBBnAIBQ5DOqjQMDQoxVn0FA1QKu3drkP7uu//oxrj0hcOEBq2xYFYu06wGsAFbENfENAyK9S6Gi0oL+LNOtzvEA3wHa49DpYPjzAS+RkctKLI0CKAA9xnVhHwJ0nol6WBzhARPBqU60zCcDGOQqA/hkswEni9DhJtyjAI2SkjniFFsCK4+B5jNwIwI/TrP1znT7Avo19z07IOsD3sZ/xi+4zwEBtz2DuEDLAetUCKrvmPUBYB838daAqwIGOmGIYHR/A30xVrWpULcC/d/201VdGQCd3yEDytydAqqjcu9HtBMBlewKT+9sxwNFk+qYu0DBA4KL+xLH26j9bnMMytj3lP9isPoZ6YD7A0lWUt9G3M8D8Og+KNp1GQGsLqvDPrDVAOfndTu9hIMBU5RLGtPcOQDg8T8Spnx1AWWrAkDv+NMA9oTCdt8MmwFWiJMa3giTAsaXZXLZOQ0BG1sQPGJFDQEp6R1RQCTDAS4Kkg8JeNkDetsWhtBUZQGfMIS2mQ0NArfFdKqlzKcDUHODGRogiQAIJe9pCYgpA5050tMMhJ8DuY/nthKlIQKJ99dd5/CDArCZ/1AA/IUBHD6/RhvBDQK6W82e1hBpAZfJpWYEjKMC9J6CnxfwYQIZ485NYqxHAM4mKEffltD/Gv+7NmnkiQFxNhP+LbRRAVQsB25ErSkBqUJX/jFI4QO6FmvB3l/2/hKPzj6HmNcD2TLBBbf80QCmOPhjDjUZAfe8V9XNMGMBP+bmEZ4RKQDYLBlpFCybAAKj67sEWRUAPbS1QUl4nQBI5BYbxKU9AuOI6Fyd3MsCZX3I8+QZBQJl7p+0F8RtACc4ojob6EUAesphNlEw7QPyK6PoiUDNA8G5j1e1l7L8KHLFbkrxBwJphJAsosR7AtVZ0MzOOKMChqamg9c5JQNtMGBuILjTAf2+PZxoeP0DIja6+54RGQMhDkYD43AVAq8/ixT4FGUBPJSDDjYhTQIyC177WMCHAPsmT6WjOOkANZNyojE8fQDTTXor27SXAw+ST1e5hIUDk8ALYg347QHOIs0bM2SlAPF+nRNZLN8A=\",\"dtype\":\"float64\",\"order\":\"little\",\"shape\":[133]},\"feature_segments\":[0,0,0,0,0,0,0,0,0,0,0,0,0,0,0,0,0,0,0,0,0,0,0,0,0,0,0,0,0,0,0,0,0,0,0,0,0,0,0,0,0,0,0,0,0,0,0,0,0,0,0,0,0,0,0,0,0,0,0,0,0,0,0,0,0,0,0,0,0,0,0,0,0,0,0,0,0,0,0,0,0,0,0,0,0,0,0,0,0,0,0,0,0,0,0,0,0,0,0,0,0,0,0,0,0,0,0,0,0,0,0,0,0,0,0,0,0,0,0,0,0,0,0,0,0,0,0,0,0,0,0,0,0]},\"selected\":{\"id\":\"9611\"},\"selection_policy\":{\"id\":\"9625\"}},\"id\":\"9610\",\"type\":\"ColumnDataSource\"},{\"attributes\":{\"data\":{\"PCA1\":{\"__ndarray__\":\"kmDGj655RcCVtt2B49JKwAz1GEk6uEbAjZG6E0VUU8Dh47m6KOdBwOQ03+MQADzAHQYXzqSGNMCgkhWE0MZHwKG+1XVfmUDAEm5C1i4GUsCyvOOH5qhIwNOeOknzDEnADP1j5V5MUcA5Xf6Bnfs7wD8Hsb3xu0DA13YPbrFCUcCGqY9Q5+1DwHUeRw6PLj7A4aUVNheyWsCyELCZKJxGwNqJZlcAMjnAd7VzvrJxUMDKr6LCr5hOwF9TbE8YtkXAhTf/2LJiQcBcR6JocutPwIMf2pVHzznAgsRI32tUO8Ci+EUtKq1CwBcXN65ZLzXAAQ37WwbTRcAg+YerixxBwLlQjn9EvjjAUqNK/oHaRMBGROpmwYBJwN4vbu1+p0DAU2e7zOWZQ8An+O5y0SY3wFdaTQ9G1FXAl7DS3w5SScA/4cXfs0hJwCz3u1BtekHAo8nRyIHOXcAJlwfRGmFCwCfiKmNKTEDAJU/6O7d4QMA/sR/wCd9KwIMaqZEl+UXAB8Td5A3lSMD0bXB9yvpCwF9gizkmrkXALaTKPSgZScDFXBdQf/hFwM97v82UBFHAvpyowRf/QsDiMW974PZGwEAtKHdaNEPAX13llanhN8BXmyk7HNZHwEjsHubrVTXAJxw3bGStUMAxBdRw4UpYwBQfHbejiTrAhya4RZF7SMD3PIIPR8hLwN037tUeVzrAusUjV/pTOcBsXrTZe5pWwPmu8fL26FHA+a7x8vboUcCKDnO4P29FwAoef6ITOjbAWSwynafzQ8A+jkFVIhxUwHrVJn8helHA1PJ55CzvUsCb1XL+qxY+wB1e4iYgOU3A0nDPWxNITsBc/pbGSmdJwPQ5aX3MGVTAVASnrMpqTcB0l7Vy0ShRwPMXF2DrZDzAJNGpCvF9PMAXOGif3atRwKeHCmOtq0jA9gBrDAeGQMAcsOUsTN1OwGHOE65eykbAhFp6sex1RMAavYgtO0VBwBYjnZKWcFjAMGkKXHZeQcAfATb8xAw7wBYeNs241lPAlKfmN5w/RcAQkrgBQi48wD1eu/hJDDfAY3XszuA3Q8Bp2/N3af1EwHwu3Wxil0TAWmvqH2wcRcDdMM033V1AwG9aI+8hglPAP+zhD+YtTcCSQ/Eke4tIwJs796yU/VDA2t0VEk37ScDifQpZWLBcwA==\",\"dtype\":\"float64\",\"order\":\"little\",\"shape\":[110]},\"PCA2\":{\"__ndarray__\":\"/8CFPbijN8AFa/h3XwAQQNiV0Sl+uh3Assmzk3rpM8B1eFW4o8sWQN5mnsiETCPA8M2Fj/S4PMCH/Ar9f5A8wALMJavKUw7AQHMzFqaFOEBozGeqmEv8v3mKcofuOTbAvnsUtCT4JkBRliQZhoVDwMA5fgVIaDdAYXYk18FuIsAFqBfPwmkBwDnjXnZL4UBArlsgIBcaO8ANgUOXju4dwHeQtStHnkLAXYA+caO8O8BhNN1GtxREwPrkhawr7y9ASyc89lisKcCWGC61gKBAwLSwrIgCcwhAbbeSY3SDNsBqCcilu4EnwNgz0AMa3SDAaoMjMgmVS8CpMQF5L3cxwOb5Tg7ZtCfAIITON4XOQMCEG61wzvsjwGtyYoFEuSPAxX/1PmirMMCn7KVYiT0ywDC1EfWZkCJAub42m7NDOcDLeU+RUWIqwEFmIS2k5kFAzeTUV2shMsD7NZHezX8twPWV1Gp1tDfAm6ppDHbqM8BpRu+3pOwnwDlQsUfHWTnAQYkyygBDQcArABTJwOpGwDLEopPsSA9AUXAV/nrzMcDjLXw4NqoiwOO7NIK5wUpAtHf6cYxKJkDFr5+aKTw2QNN4BEkxmTnAPLXQvJs/HkBFMmKChk9DQElkgLBeqjXA+bspLj2C+L8V6pRJHvo6QBKnGKcYwg/AVA/x5fWpM0CXXLueUU87wHyQFNocFxhA7V4zlejtKMBkzp+p2cdAwE2Avws+xDfATYC/Cz7EN8CsJzX96pgNwIxK98PopTXADPQVdjjzMkDKXKZXj4w/QG3HdkPtFTtAOpXjnQrUJsDVMOT02CozQK9tutxG2UFA5T639Nf6AMCeuSQGZuk9wD4XK6MKPyVAavO35wDGIkCnwBeEwwQiwF2tfz82CBdAmLlRqQ63Q0AKGHBLq8g9QIoswrjP3C5AiQd5UYcZNUBKe1sLApxGQJ5HxBClgzhA8WSCWoqWQ0AdzpIBQ/4xQHaTTX1ImzZAcJ8uVFddMsDHSs+kcC9HQABb68bSljtALB7z0NS5GMCPb++N4BwwQLowHn7Dsz7AixH2c3qELECgSGrRVlwkwHkVSrzlyDNAA3T2CW9mHcDZZKGdKuQSQKueUVWm2Q9AVaZ0drtkIkA/TZI26yQuQGBT47ch8U9A9FEb+YaoKkBWmUahSzhCQA==\",\"dtype\":\"float64\",\"order\":\"little\",\"shape\":[110]},\"feature_segments\":[2,2,2,2,2,2,2,2,2,2,2,2,2,2,2,2,2,2,2,2,2,2,2,2,2,2,2,2,2,2,2,2,2,2,2,2,2,2,2,2,2,2,2,2,2,2,2,2,2,2,2,2,2,2,2,2,2,2,2,2,2,2,2,2,2,2,2,2,2,2,2,2,2,2,2,2,2,2,2,2,2,2,2,2,2,2,2,2,2,2,2,2,2,2,2,2,2,2,2,2,2,2,2,2,2,2,2,2,2,2]},\"selected\":{\"id\":\"9654\"},\"selection_policy\":{\"id\":\"9672\"}},\"id\":\"9653\",\"type\":\"ColumnDataSource\"},{\"attributes\":{},\"id\":\"9579\",\"type\":\"LinearScale\"},{\"attributes\":{\"callback\":null,\"renderers\":[{\"id\":\"9616\"},{\"id\":\"9637\"},{\"id\":\"9659\"}],\"tags\":[\"hv_created\"],\"tooltips\":[[\"feature_segments\",\"@{feature_segments}\"],[\"PCA1\",\"@{PCA1}\"],[\"PCA2\",\"@{PCA2}\"]]},\"id\":\"9571\",\"type\":\"HoverTool\"},{\"attributes\":{},\"id\":\"9611\",\"type\":\"Selection\"},{\"attributes\":{},\"id\":\"9672\",\"type\":\"UnionRenderers\"},{\"attributes\":{},\"id\":\"9654\",\"type\":\"Selection\"},{\"attributes\":{\"angle\":{\"value\":0.0},\"fill_alpha\":{\"value\":1.0},\"fill_color\":{\"value\":\"#30a2da\"},\"hatch_alpha\":{\"value\":1.0},\"hatch_color\":{\"value\":\"#30a2da\"},\"hatch_scale\":{\"value\":12.0},\"hatch_weight\":{\"value\":1.0},\"line_alpha\":{\"value\":1.0},\"line_cap\":{\"value\":\"butt\"},\"line_color\":{\"value\":\"#30a2da\"},\"line_dash\":{\"value\":[]},\"line_dash_offset\":{\"value\":0},\"line_join\":{\"value\":\"bevel\"},\"line_width\":{\"value\":1},\"marker\":{\"value\":\"circle\"},\"size\":{\"value\":5.477225575051661},\"x\":{\"field\":\"PCA1\"},\"y\":{\"field\":\"PCA2\"}},\"id\":\"9630\",\"type\":\"Scatter\"},{\"attributes\":{},\"id\":\"9625\",\"type\":\"UnionRenderers\"},{\"attributes\":{},\"id\":\"9632\",\"type\":\"Selection\"},{\"attributes\":{\"margin\":[5,5,5,5],\"name\":\"HSpacer08696\",\"sizing_mode\":\"stretch_width\"},\"id\":\"9568\",\"type\":\"Spacer\"},{\"attributes\":{\"data\":{\"PCA1\":{\"__ndarray__\":\"gJD/GaG+WkDu8JRgdgpIQIxliSZfPldAgM5J05fFTEBkyjP5WWVlQGiw6NLHzkxAYPfwv3HRXEA7bSftF/hOQMLHhjLxiFJAnplcyxZxU0AO+b8v2sJLQCH4bxmsPkxAqaAZ/Vy2TkCQVh9M1nVOQFPqmMsWlVFAmBL/AyImSkBxXy15+8tzQOSscJeFy0RAwohBbRCDYkAWZ0mz6f5QQHUTNajZTlRAajEiUETgUEDVR0LNaZFMQC410RSIwEdAQGdbrZJcTUAAmAm5CPNHQIk2lEylk0tAn12f5R7eV0DYOc7zmFFWQLeFTaoFrVpAX3zYdmrnVEDjeOyZUiRFQPD69ls9PE1A7bwwnadqVED0dKybBMZOQIkv5WebjldAPfBaM1f+VEAhX6UIxzNkQHByTc2ujUZAipm8wqbLRUCokCozS2hPQPvUlmQfRUZAa2CPem8IRkA8lcvdyBtTQFO/XA1FXUpAES2DEx2nSkD9l+FNfY9HQB2JjfWuDk1AdzKbL0ZTZEBgGeoIRZhDQNJBzQ2WDkpAW/16z6dJSEAIHrDp+OdJQN/6gcqmYU9AQTs1ZY3JVECPdSHJljtSQPbn2CU2IFFAII1ZdLA5UEBKU9iDSOxVQGY9L6SLvlFA\",\"dtype\":\"float64\",\"order\":\"little\",\"shape\":[60]},\"PCA2\":{\"__ndarray__\":\"ZwmrYUXCL8C5h09GyFgIwP0UNb5KQzjAtNrz7fvDHMA+nU96n+UewAfXuraaxzTAX3932d//9D9q85lCRw0aQAmn0iEghkHAF3ueqCcMOcBD32GFzwj4v+Y3AaLgTyTAHr3HRzf4I8C3tKc6tTU3wDqZXhhBNSvAzVhjlYMOO8CtKhkwXXQvwEUrZXYeACTAAKJbUaUqH8DgQjiuU08vwOCRWnj4IO8/zj1xwd+LMUC3qs//VYk7QFh8a2mzhDDAoaLVZ/BEMcCwOfHXIP0jwMQJf08axEHAtTQXRpO0McBiRr3UUTkdwEUSobbFti5A4xU5SUiEM8Db3PVmxB4gwChfDAXcSBZA/7Z3eEWPKUAZYRFTlAAUQHo1fXZ7CSNApyHLw3QTMUBaXLZdbWYOwMIad9gX9TZAtBAHVz2kFMDp6J2Z4RMyQPkao+owODxAxtfsNGoyG0CS93Rq7n5EQBiqjY1fkTfAjo23YhbuNcCzmeQr8twywBX2+gZWeSPA1ryd/LZBB8CUUPpbRWxDwC9f8EaTXzpAcZ9DZjzqRUDFZGTwCh02QK1pB6sJr+g/F8w9opfDQUA0VZpY8doEwPgYr+Bc+jRACNf6gmMcO0Cu2RLsppAIQDkhl/8e4xtA\",\"dtype\":\"float64\",\"order\":\"little\",\"shape\":[60]},\"feature_segments\":[1,1,1,1,1,1,1,1,1,1,1,1,1,1,1,1,1,1,1,1,1,1,1,1,1,1,1,1,1,1,1,1,1,1,1,1,1,1,1,1,1,1,1,1,1,1,1,1,1,1,1,1,1,1,1,1,1,1,1,1]},\"selected\":{\"id\":\"9632\"},\"selection_policy\":{\"id\":\"9648\"}},\"id\":\"9631\",\"type\":\"ColumnDataSource\"},{\"attributes\":{\"label\":{\"value\":\"2\"},\"renderers\":[{\"id\":\"9659\"}]},\"id\":\"9675\",\"type\":\"LegendItem\"},{\"attributes\":{\"active_drag\":{\"id\":\"9592\"},\"active_scroll\":{\"id\":\"9593\"},\"tools\":[{\"id\":\"9571\"},{\"id\":\"9591\"},{\"id\":\"9592\"},{\"id\":\"9593\"},{\"id\":\"9594\"},{\"id\":\"9595\"}]},\"id\":\"9597\",\"type\":\"Toolbar\"},{\"attributes\":{\"source\":{\"id\":\"9653\"}},\"id\":\"9660\",\"type\":\"CDSView\"},{\"attributes\":{\"fill_alpha\":{\"value\":0.2},\"fill_color\":{\"value\":\"#30a2da\"},\"hatch_alpha\":{\"value\":0.2},\"hatch_color\":{\"value\":\"#30a2da\"},\"line_alpha\":{\"value\":0.2},\"line_color\":{\"value\":\"#30a2da\"},\"size\":{\"value\":5.477225575051661},\"x\":{\"field\":\"PCA1\"},\"y\":{\"field\":\"PCA2\"}},\"id\":\"9615\",\"type\":\"Scatter\"},{\"attributes\":{\"click_policy\":\"mute\",\"coordinates\":null,\"group\":null,\"items\":[{\"id\":\"9629\"},{\"id\":\"9651\"},{\"id\":\"9675\"}],\"location\":[0,0],\"title\":\"feature_segments\"},\"id\":\"9628\",\"type\":\"Legend\"},{\"attributes\":{\"fill_color\":{\"value\":\"#30a2da\"},\"hatch_color\":{\"value\":\"#30a2da\"},\"line_color\":{\"value\":\"#30a2da\"},\"size\":{\"value\":5.477225575051661},\"x\":{\"field\":\"PCA1\"},\"y\":{\"field\":\"PCA2\"}},\"id\":\"9613\",\"type\":\"Scatter\"},{\"attributes\":{},\"id\":\"9591\",\"type\":\"SaveTool\"},{\"attributes\":{\"children\":[{\"id\":\"9568\"},{\"id\":\"9574\"},{\"id\":\"9695\"}],\"margin\":[0,0,0,0],\"name\":\"Row08692\",\"tags\":[\"embedded\"]},\"id\":\"9567\",\"type\":\"Row\"},{\"attributes\":{\"below\":[{\"id\":\"9583\"}],\"center\":[{\"id\":\"9586\"},{\"id\":\"9590\"}],\"height\":300,\"left\":[{\"id\":\"9587\"}],\"margin\":[5,5,5,5],\"min_border_bottom\":10,\"min_border_left\":10,\"min_border_right\":10,\"min_border_top\":10,\"renderers\":[{\"id\":\"9616\"},{\"id\":\"9637\"},{\"id\":\"9659\"}],\"right\":[{\"id\":\"9628\"}],\"sizing_mode\":\"fixed\",\"title\":{\"id\":\"9575\"},\"toolbar\":{\"id\":\"9597\"},\"width\":700,\"x_range\":{\"id\":\"9569\"},\"x_scale\":{\"id\":\"9579\"},\"y_range\":{\"id\":\"9570\"},\"y_scale\":{\"id\":\"9581\"}},\"id\":\"9574\",\"subtype\":\"Figure\",\"type\":\"Plot\"},{\"attributes\":{\"fill_alpha\":{\"value\":0.1},\"fill_color\":{\"value\":\"#30a2da\"},\"hatch_alpha\":{\"value\":0.1},\"hatch_color\":{\"value\":\"#30a2da\"},\"line_alpha\":{\"value\":0.1},\"line_color\":{\"value\":\"#30a2da\"},\"size\":{\"value\":5.477225575051661},\"x\":{\"field\":\"PCA1\"},\"y\":{\"field\":\"PCA2\"}},\"id\":\"9614\",\"type\":\"Scatter\"},{\"attributes\":{},\"id\":\"9592\",\"type\":\"PanTool\"},{\"attributes\":{\"fill_color\":{\"value\":\"#e5ae38\"},\"hatch_color\":{\"value\":\"#e5ae38\"},\"line_color\":{\"value\":\"#e5ae38\"},\"size\":{\"value\":5.477225575051661},\"x\":{\"field\":\"PCA1\"},\"y\":{\"field\":\"PCA2\"}},\"id\":\"9656\",\"type\":\"Scatter\"},{\"attributes\":{\"end\":335.43356198655476,\"reset_end\":335.43356198655476,\"reset_start\":-137.91133854031258,\"start\":-137.91133854031258,\"tags\":[[[\"PCA1\",\"PCA1\",null]]]},\"id\":\"9569\",\"type\":\"Range1d\"}],\"root_ids\":[\"9567\"]},\"title\":\"Bokeh Application\",\"version\":\"2.4.3\"}};\n",
       "    var render_items = [{\"docid\":\"bdcc287e-1c3d-4854-bd95-46025a468f40\",\"root_ids\":[\"9567\"],\"roots\":{\"9567\":\"525858a8-d467-44d9-a4c1-b1d7a226b4b0\"}}];\n",
       "    root.Bokeh.embed.embed_items_notebook(docs_json, render_items);\n",
       "    for (const render_item of render_items) {\n",
       "      for (const root_id of render_item.root_ids) {\n",
       "\tconst id_el = document.getElementById(root_id)\n",
       "\tif (id_el.children.length && (id_el.children[0].className === 'bk-root')) {\n",
       "\t  const root_el = id_el.children[0]\n",
       "\t  root_el.id = root_el.id + '-rendered'\n",
       "\t}\n",
       "      }\n",
       "    }\n",
       "  }\n",
       "  if (root.Bokeh !== undefined && root.Bokeh.Panel !== undefined) {\n",
       "    embed_document(root);\n",
       "  } else {\n",
       "    var attempts = 0;\n",
       "    var timer = setInterval(function(root) {\n",
       "      if (root.Bokeh !== undefined && root.Bokeh.Panel !== undefined) {\n",
       "        clearInterval(timer);\n",
       "        embed_document(root);\n",
       "      } else if (document.readyState == \"complete\") {\n",
       "        attempts++;\n",
       "        if (attempts > 200) {\n",
       "          clearInterval(timer);\n",
       "          console.log(\"Bokeh: ERROR: Unable to run BokehJS code because BokehJS library is missing\");\n",
       "        }\n",
       "      }\n",
       "    }, 25, root)\n",
       "  }\n",
       "})(window);</script>"
      ],
      "text/plain": [
       ":NdOverlay   [feature_segments]\n",
       "   :Scatter   [PCA1]   (PCA2)"
      ]
     },
     "execution_count": 4805,
     "metadata": {
      "application/vnd.holoviews_exec.v0+json": {
       "id": "9567"
      }
     },
     "output_type": "execute_result"
    }
   ],
   "source": [
    "# Plot the clusters\n",
    "heart_pca_predictions_df.hvplot.scatter(\n",
    "    x=\"PCA1\",\n",
    "    y=\"PCA2\",\n",
    "    by=\"feature_segments\"\n",
    ")"
   ]
  },
  {
   "attachments": {},
   "cell_type": "markdown",
   "metadata": {},
   "source": [
    "## Predict a Logistic Regression Model with Resampled Training Data"
   ]
  },
  {
   "attachments": {},
   "cell_type": "markdown",
   "metadata": {},
   "source": [
    "### Step 1: Use the `RandomOverSampler` module from the imbalanced-learn library to resample the data. Be sure to confirm that the labels have an equal number of data points. "
   ]
  },
  {
   "cell_type": "code",
   "execution_count": 4806,
   "metadata": {},
   "outputs": [],
   "source": [
    "# # Import the RandomOverSampler module form imbalanced-learn\n",
    "# from imblearn.over_sampling import RandomOverSampler\n",
    "\n",
    "# # Instantiate the random oversampler model\n",
    "# # # Assign a random_state parameter of 1 to the model\n",
    "# ros_model = RandomOverSampler(random_state=1)\n",
    "\n",
    "# # Fit the original training data to the random_oversampler model\n",
    "# X_res, y_res = ros_model.fit_resample(X_train, y_train)"
   ]
  },
  {
   "cell_type": "code",
   "execution_count": 4807,
   "metadata": {},
   "outputs": [],
   "source": [
    "# # Count the distinct values of the resampled labels data\n",
    "# X_res.shape"
   ]
  },
  {
   "attachments": {},
   "cell_type": "markdown",
   "metadata": {},
   "source": [
    "### Step 2: Use the `LogisticRegression` classifier and the resampled data to fit the model and make predictions."
   ]
  },
  {
   "cell_type": "code",
   "execution_count": 4808,
   "metadata": {},
   "outputs": [],
   "source": [
    "# # Instantiate the Logistic Regression model\n",
    "# # Assign a random_state parameter of 1 to the model\n",
    "# classifier_rs = LogisticRegression(solver='lbfgs', random_state=1)\n",
    "# classifier_rs\n",
    "\n",
    "# # Fit the model using the resampled training data\n",
    "# classifier_rs.fit(X_res, y_res)\n",
    "\n",
    "# # Make a prediction using the testing data\n",
    "# testing_predictions_rs = classifier.predict(X_test)\n",
    "# results_rs = pd.DataFrame({\"Prediction\": testing_predictions_rs, \"Actual\": y_test}).reset_index(drop=True)\n",
    "# results_rs.head(10)"
   ]
  },
  {
   "attachments": {},
   "cell_type": "markdown",
   "metadata": {},
   "source": [
    "### Step 3: Evaluate the model’s performance by doing the following:\n",
    "\n",
    "* Calculate the accuracy score of the model.\n",
    "\n",
    "* Generate a confusion matrix.\n",
    "\n",
    "* Print the classification report."
   ]
  },
  {
   "cell_type": "code",
   "execution_count": 4809,
   "metadata": {},
   "outputs": [],
   "source": [
    "# # Print the balanced_accuracy score of the model \n",
    "# balanced_accuracy_score(y_test, testing_predictions_rs)"
   ]
  },
  {
   "cell_type": "code",
   "execution_count": 4810,
   "metadata": {},
   "outputs": [],
   "source": [
    "# # Generate a confusion matrix for the model\n",
    "# confusion_matrix(y_test, testing_predictions_rs)"
   ]
  },
  {
   "cell_type": "code",
   "execution_count": 4811,
   "metadata": {},
   "outputs": [],
   "source": [
    "# # Print the classification report for the model\n",
    "# print(classification_report(y_test, testing_predictions_rs))"
   ]
  },
  {
   "attachments": {},
   "cell_type": "markdown",
   "metadata": {},
   "source": [
    "### Step 4: Answer the following question"
   ]
  },
  {
   "attachments": {},
   "cell_type": "markdown",
   "metadata": {},
   "source": [
    "**Question:** How well does the logistic regression model predict both the `0` (< 50% diameter narrowing. less chance of heart disease) and `1` (> 50% diameter narrowing. more chance of heart disease) labels?\n",
    "\n",
    "**Answer:** "
   ]
  },
  {
   "attachments": {},
   "cell_type": "markdown",
   "metadata": {},
   "source": [
    "## Creating a Logistic Regression Model with scaled data"
   ]
  },
  {
   "attachments": {},
   "cell_type": "markdown",
   "metadata": {},
   "source": [
    "#### Considering the features \"age\", \"trtbps\", \"chol\" and \"thalachh\" were much larger values to the other features the following is an exploration of how predictions would be different if I use the StandardScaler module and fit_transform function to scale all columns (except for output)"
   ]
  },
  {
   "cell_type": "code",
   "execution_count": 4812,
   "metadata": {},
   "outputs": [],
   "source": [
    "# heart_df_scaled = heart_df.drop(columns=\"output\")"
   ]
  },
  {
   "cell_type": "code",
   "execution_count": 4813,
   "metadata": {},
   "outputs": [],
   "source": [
    "# # Use the StandardScaler module from scikit-learn to normalize the data from the CSV file\n",
    "# # fit_transform function to scale all columns \n",
    "# heart_df_scaled = StandardScaler().fit_transform(heart_df_scaled)\n",
    "\n",
    "# # Diplay the first row of the scaled data\n",
    "# heart_df_scaled[0:1]"
   ]
  },
  {
   "cell_type": "code",
   "execution_count": 4814,
   "metadata": {},
   "outputs": [],
   "source": [
    "# # Create a DataFrame with the scaled data, excluding the target variable column \"output\"\n",
    "# heart_df_scaled = pd.DataFrame(heart_df_scaled, columns = ['age', 'sex', 'cp', 'trtbps', 'chol', 'fbs', 'restecg', 'thalachh',\n",
    "#        'exng', 'oldpeak', 'slp', 'caa', 'thall'])\n",
    "\n",
    "# # Display sample data\n",
    "# heart_df_scaled.head()"
   ]
  },
  {
   "cell_type": "code",
   "execution_count": 4815,
   "metadata": {},
   "outputs": [],
   "source": [
    "# # Separate the data into labels and features\n",
    "\n",
    "# # Separate the y variable, the labels\n",
    "# y = heart_df[\"output\"]\n",
    "\n",
    "# # Separate the X variable, the features\n",
    "# X = heart_df_scaled\n",
    "# # X = heart_df_scaled.drop(columns=['cp', 'trtbps', 'chol', 'restecg'])"
   ]
  },
  {
   "cell_type": "code",
   "execution_count": 4816,
   "metadata": {},
   "outputs": [],
   "source": [
    "# # Split the data using train_test_split\n",
    "# # Assign a random_state of 1 to the function\n",
    "# X_train, X_test, y_train, y_test = train_test_split(X, \n",
    "#                                                     y, \n",
    "#                                                     random_state=1)\n",
    "# X_train.shape"
   ]
  },
  {
   "cell_type": "code",
   "execution_count": 4817,
   "metadata": {},
   "outputs": [],
   "source": [
    "# # Declare a logistic regression model.\n",
    "# # Apply a random_state of 1 to the model\n",
    "# lr_model_scaled = LogisticRegression(solver='lbfgs',random_state=1)\n",
    "# # lr_model_scaled = LogisticRegression(solver='liblinear',random_state=1)\n",
    "# # lr_model_scaled = LogisticRegression(solver='sag',random_state=1)\n",
    "# # lr_model_scaled = LogisticRegression(solver='saga',random_state=1)\n",
    "\n",
    "# # Fit and save the logistic regression model using the training data\n",
    "# lr_model_scaled.fit(X_train, y_train)"
   ]
  },
  {
   "cell_type": "code",
   "execution_count": 4818,
   "metadata": {},
   "outputs": [],
   "source": [
    "# # Score the model\n",
    "# print(f\"Training Data Score: {lr_model_scaled.score(X_train, y_train)}\")\n",
    "# print(f\"Testing Data Score: {lr_model_scaled.score(X_test, y_test)}\")"
   ]
  },
  {
   "cell_type": "code",
   "execution_count": 4819,
   "metadata": {},
   "outputs": [],
   "source": [
    "# # Make a prediction using the testing data\n",
    "# lr_scaled_testing_predictions = lr_model_scaled.predict(X_test)\n",
    "# lr_scaled_results = pd.DataFrame({\"Prediction\": lr_scaled_testing_predictions, \"Actual\": y_test}).reset_index(drop=True)\n",
    "# lr_scaled_results.head(10)"
   ]
  },
  {
   "cell_type": "code",
   "execution_count": 4820,
   "metadata": {},
   "outputs": [],
   "source": [
    "# # Print the balanced_accuracy score of the model\n",
    "# balanced_accuracy_score(y_test, lr_scaled_testing_predictions)"
   ]
  },
  {
   "cell_type": "code",
   "execution_count": 4821,
   "metadata": {},
   "outputs": [],
   "source": [
    "# # Create and save the confusion matrix for the testing data\n",
    "# lr_scaled_test_matrix = confusion_matrix(y_test, lr_scaled_testing_predictions)\n",
    "\n",
    "# # Print the confusion matrix for the testing data\n",
    "# print(lr_scaled_test_matrix)"
   ]
  },
  {
   "cell_type": "code",
   "execution_count": 4822,
   "metadata": {},
   "outputs": [],
   "source": [
    "# # Create and save the testing classification report\n",
    "# lr_scaled_testing_report = classification_report(y_test, lr_scaled_testing_predictions)\n",
    "\n",
    "# # Print the testing classification report\n",
    "# print(lr_scaled_testing_report)"
   ]
  },
  {
   "attachments": {},
   "cell_type": "markdown",
   "metadata": {},
   "source": [
    "## Random Forest Classifier"
   ]
  },
  {
   "attachments": {},
   "cell_type": "markdown",
   "metadata": {},
   "source": [
    "### Fitting the Random Forest Model"
   ]
  },
  {
   "cell_type": "code",
   "execution_count": 4823,
   "metadata": {},
   "outputs": [],
   "source": [
    "# Create a random forest classifier\n",
    "rf_model = RandomForestClassifier(n_estimators=500, random_state=1)"
   ]
  },
  {
   "cell_type": "code",
   "execution_count": 4824,
   "metadata": {},
   "outputs": [
    {
     "data": {
      "text/plain": [
       "RandomForestClassifier(bootstrap=True, ccp_alpha=0.0, class_weight=None,\n",
       "                       criterion='gini', max_depth=None, max_features='auto',\n",
       "                       max_leaf_nodes=None, max_samples=None,\n",
       "                       min_impurity_decrease=0.0, min_impurity_split=None,\n",
       "                       min_samples_leaf=1, min_samples_split=2,\n",
       "                       min_weight_fraction_leaf=0.0, n_estimators=500,\n",
       "                       n_jobs=None, oob_score=False, random_state=1, verbose=0,\n",
       "                       warm_start=False)"
      ]
     },
     "execution_count": 4824,
     "metadata": {},
     "output_type": "execute_result"
    }
   ],
   "source": [
    "# Fitting the model\n",
    "# rf_model = rf_model.fit(X_train_scaled, y_train)\n",
    "# rf_model = rf_model.fit(X_train, y_train)\n",
    "\n",
    "# Fit the model and use .ravel()on the \"y_train\" data. \n",
    "rf_model.fit(X_train, y_train.ravel())"
   ]
  },
  {
   "attachments": {},
   "cell_type": "markdown",
   "metadata": {},
   "source": [
    "### Making Predictions Using the Random Forest Model"
   ]
  },
  {
   "cell_type": "code",
   "execution_count": 4825,
   "metadata": {},
   "outputs": [
    {
     "data": {
      "text/html": [
       "<div>\n",
       "<style scoped>\n",
       "    .dataframe tbody tr th:only-of-type {\n",
       "        vertical-align: middle;\n",
       "    }\n",
       "\n",
       "    .dataframe tbody tr th {\n",
       "        vertical-align: top;\n",
       "    }\n",
       "\n",
       "    .dataframe thead th {\n",
       "        text-align: right;\n",
       "    }\n",
       "</style>\n",
       "<table border=\"1\" class=\"dataframe\">\n",
       "  <thead>\n",
       "    <tr style=\"text-align: right;\">\n",
       "      <th></th>\n",
       "      <th>Prediction</th>\n",
       "      <th>Actual</th>\n",
       "    </tr>\n",
       "  </thead>\n",
       "  <tbody>\n",
       "    <tr>\n",
       "      <th>0</th>\n",
       "      <td>0</td>\n",
       "      <td>0</td>\n",
       "    </tr>\n",
       "    <tr>\n",
       "      <th>1</th>\n",
       "      <td>1</td>\n",
       "      <td>1</td>\n",
       "    </tr>\n",
       "    <tr>\n",
       "      <th>2</th>\n",
       "      <td>0</td>\n",
       "      <td>0</td>\n",
       "    </tr>\n",
       "    <tr>\n",
       "      <th>3</th>\n",
       "      <td>0</td>\n",
       "      <td>0</td>\n",
       "    </tr>\n",
       "    <tr>\n",
       "      <th>4</th>\n",
       "      <td>0</td>\n",
       "      <td>0</td>\n",
       "    </tr>\n",
       "    <tr>\n",
       "      <th>5</th>\n",
       "      <td>0</td>\n",
       "      <td>0</td>\n",
       "    </tr>\n",
       "    <tr>\n",
       "      <th>6</th>\n",
       "      <td>0</td>\n",
       "      <td>0</td>\n",
       "    </tr>\n",
       "    <tr>\n",
       "      <th>7</th>\n",
       "      <td>1</td>\n",
       "      <td>1</td>\n",
       "    </tr>\n",
       "    <tr>\n",
       "      <th>8</th>\n",
       "      <td>0</td>\n",
       "      <td>0</td>\n",
       "    </tr>\n",
       "    <tr>\n",
       "      <th>9</th>\n",
       "      <td>1</td>\n",
       "      <td>1</td>\n",
       "    </tr>\n",
       "  </tbody>\n",
       "</table>\n",
       "</div>"
      ],
      "text/plain": [
       "   Prediction  Actual\n",
       "0           0       0\n",
       "1           1       1\n",
       "2           0       0\n",
       "3           0       0\n",
       "4           0       0\n",
       "5           0       0\n",
       "6           0       0\n",
       "7           1       1\n",
       "8           0       0\n",
       "9           1       1"
      ]
     },
     "execution_count": 4825,
     "metadata": {},
     "output_type": "execute_result"
    }
   ],
   "source": [
    "# Making predictions using the testing data\n",
    "rf_testing_predictions = rf_model.predict(X_test)\n",
    "\n",
    "# Printing DataFrame of Actual and Predicted results\n",
    "rf_results = pd.DataFrame({\"Prediction\": rf_testing_predictions, \"Actual\": y_test}).reset_index(drop=True)\n",
    "rf_results.head(10)"
   ]
  },
  {
   "attachments": {},
   "cell_type": "markdown",
   "metadata": {},
   "source": [
    "### Model Evaluation"
   ]
  },
  {
   "cell_type": "code",
   "execution_count": 4826,
   "metadata": {},
   "outputs": [],
   "source": [
    "# Calculating the confusion matrix\n",
    "rf_test_matrix = confusion_matrix(y_test, rf_testing_predictions)\n",
    "rf_df = pd.DataFrame(\n",
    "    rf_test_matrix, index=[\"Actual 0\", \"Actual 1\"], columns=[\"Predicted 0\", \"Predicted 1\"]\n",
    ")\n",
    "\n",
    "# Calculating the accuracy score\n",
    "rf_acc_score = accuracy_score(y_test, rf_testing_predictions)"
   ]
  },
  {
   "cell_type": "code",
   "execution_count": 4827,
   "metadata": {},
   "outputs": [
    {
     "name": "stdout",
     "output_type": "stream",
     "text": [
      "Confusion Matrix\n"
     ]
    },
    {
     "data": {
      "text/html": [
       "<div>\n",
       "<style scoped>\n",
       "    .dataframe tbody tr th:only-of-type {\n",
       "        vertical-align: middle;\n",
       "    }\n",
       "\n",
       "    .dataframe tbody tr th {\n",
       "        vertical-align: top;\n",
       "    }\n",
       "\n",
       "    .dataframe thead th {\n",
       "        text-align: right;\n",
       "    }\n",
       "</style>\n",
       "<table border=\"1\" class=\"dataframe\">\n",
       "  <thead>\n",
       "    <tr style=\"text-align: right;\">\n",
       "      <th></th>\n",
       "      <th>Predicted 0</th>\n",
       "      <th>Predicted 1</th>\n",
       "    </tr>\n",
       "  </thead>\n",
       "  <tbody>\n",
       "    <tr>\n",
       "      <th>Actual 0</th>\n",
       "      <td>28</td>\n",
       "      <td>7</td>\n",
       "    </tr>\n",
       "    <tr>\n",
       "      <th>Actual 1</th>\n",
       "      <td>6</td>\n",
       "      <td>35</td>\n",
       "    </tr>\n",
       "  </tbody>\n",
       "</table>\n",
       "</div>"
      ],
      "text/plain": [
       "          Predicted 0  Predicted 1\n",
       "Actual 0           28            7\n",
       "Actual 1            6           35"
      ]
     },
     "metadata": {},
     "output_type": "display_data"
    },
    {
     "name": "stdout",
     "output_type": "stream",
     "text": [
      "Accuracy Score : 0.8289473684210527\n",
      "Classification Report\n",
      "              precision    recall  f1-score   support\n",
      "\n",
      "           0       0.82      0.80      0.81        35\n",
      "           1       0.83      0.85      0.84        41\n",
      "\n",
      "    accuracy                           0.83        76\n",
      "   macro avg       0.83      0.83      0.83        76\n",
      "weighted avg       0.83      0.83      0.83        76\n",
      "\n"
     ]
    }
   ],
   "source": [
    "# Displaying results\n",
    "print(\"Confusion Matrix\")\n",
    "display(rf_df)\n",
    "print(f\"Accuracy Score : {rf_acc_score}\")\n",
    "print(\"Classification Report\")\n",
    "print(classification_report(y_test, rf_testing_predictions))"
   ]
  },
  {
   "attachments": {},
   "cell_type": "markdown",
   "metadata": {},
   "source": [
    "### Feature Importance"
   ]
  },
  {
   "cell_type": "code",
   "execution_count": 4828,
   "metadata": {},
   "outputs": [
    {
     "data": {
      "text/plain": [
       "[(0.20195728992442888, 'thalachh'),\n",
       " (0.1641855845058843, 'oldpeak'),\n",
       " (0.1452458581192625, 'caa'),\n",
       " (0.14371690950676036, 'age'),\n",
       " (0.1151788459810616, 'exng'),\n",
       " (0.10377283206513929, 'thall'),\n",
       " (0.05634484159854478, 'slp'),\n",
       " (0.05181718295183995, 'sex'),\n",
       " (0.017780655347078428, 'fbs')]"
      ]
     },
     "execution_count": 4828,
     "metadata": {},
     "output_type": "execute_result"
    }
   ],
   "source": [
    "# Random Forests in sklearn will automatically calculate feature importance\n",
    "importances = rf_model.feature_importances_\n",
    "# We can sort the features by their importance\n",
    "sorted(zip(rf_model.feature_importances_, X.columns), reverse=True)"
   ]
  },
  {
   "cell_type": "code",
   "execution_count": 4829,
   "metadata": {},
   "outputs": [
    {
     "data": {
      "text/plain": [
       "<matplotlib.axes._subplots.AxesSubplot at 0x7ff5202e9b50>"
      ]
     },
     "execution_count": 4829,
     "metadata": {},
     "output_type": "execute_result"
    },
    {
     "data": {
      "image/png": "[encoded data removed]",
      "text/plain": [
       "<Figure size 432x288 with 1 Axes>"
      ]
     },
     "metadata": {
      "needs_background": "light"
     },
     "output_type": "display_data"
    }
   ],
   "source": [
    "# Visualize the features by importance\n",
    "importances_df = pd.DataFrame(sorted(zip(rf_model.feature_importances_, X.columns), reverse=True))\n",
    "importances_df.set_index(importances_df[1], inplace=True)\n",
    "importances_df.drop(columns=1, inplace=True)\n",
    "importances_df.rename(columns={0: 'Feature Importances'}, inplace=True)\n",
    "importances_sorted = importances_df.sort_values(by='Feature Importances')\n",
    "importances_sorted.plot(kind='barh', color='lightgreen', title= 'Features Importances', legend=False)"
   ]
  },
  {
   "attachments": {},
   "cell_type": "markdown",
   "metadata": {},
   "source": [
    "## KNN - K- Nearest Neighbors Classifier"
   ]
  },
  {
   "attachments": {},
   "cell_type": "markdown",
   "metadata": {},
   "source": [
    "### Fitting the KNN Model"
   ]
  },
  {
   "cell_type": "code",
   "execution_count": 4830,
   "metadata": {},
   "outputs": [],
   "source": [
    "# Instantiate the KNeighborsClassifier model with n_neighbors = 3 \n",
    "knn_model = KNeighborsClassifier(n_neighbors=3)"
   ]
  },
  {
   "cell_type": "code",
   "execution_count": 4831,
   "metadata": {},
   "outputs": [
    {
     "data": {
      "text/plain": [
       "KNeighborsClassifier(algorithm='auto', leaf_size=30, metric='minkowski',\n",
       "                     metric_params=None, n_jobs=None, n_neighbors=3, p=2,\n",
       "                     weights='uniform')"
      ]
     },
     "execution_count": 4831,
     "metadata": {},
     "output_type": "execute_result"
    }
   ],
   "source": [
    "# Train the model\n",
    "knn_model.fit(X_train, y_train)"
   ]
  },
  {
   "attachments": {},
   "cell_type": "markdown",
   "metadata": {},
   "source": [
    "### Making Predictions Using the KNN Model"
   ]
  },
  {
   "cell_type": "code",
   "execution_count": 4832,
   "metadata": {},
   "outputs": [
    {
     "data": {
      "text/html": [
       "<div>\n",
       "<style scoped>\n",
       "    .dataframe tbody tr th:only-of-type {\n",
       "        vertical-align: middle;\n",
       "    }\n",
       "\n",
       "    .dataframe tbody tr th {\n",
       "        vertical-align: top;\n",
       "    }\n",
       "\n",
       "    .dataframe thead th {\n",
       "        text-align: right;\n",
       "    }\n",
       "</style>\n",
       "<table border=\"1\" class=\"dataframe\">\n",
       "  <thead>\n",
       "    <tr style=\"text-align: right;\">\n",
       "      <th></th>\n",
       "      <th>Prediction</th>\n",
       "      <th>Actual</th>\n",
       "    </tr>\n",
       "  </thead>\n",
       "  <tbody>\n",
       "    <tr>\n",
       "      <th>0</th>\n",
       "      <td>1</td>\n",
       "      <td>0</td>\n",
       "    </tr>\n",
       "    <tr>\n",
       "      <th>1</th>\n",
       "      <td>1</td>\n",
       "      <td>1</td>\n",
       "    </tr>\n",
       "    <tr>\n",
       "      <th>2</th>\n",
       "      <td>0</td>\n",
       "      <td>0</td>\n",
       "    </tr>\n",
       "    <tr>\n",
       "      <th>3</th>\n",
       "      <td>0</td>\n",
       "      <td>0</td>\n",
       "    </tr>\n",
       "    <tr>\n",
       "      <th>4</th>\n",
       "      <td>0</td>\n",
       "      <td>0</td>\n",
       "    </tr>\n",
       "    <tr>\n",
       "      <th>5</th>\n",
       "      <td>1</td>\n",
       "      <td>0</td>\n",
       "    </tr>\n",
       "    <tr>\n",
       "      <th>6</th>\n",
       "      <td>0</td>\n",
       "      <td>0</td>\n",
       "    </tr>\n",
       "    <tr>\n",
       "      <th>7</th>\n",
       "      <td>0</td>\n",
       "      <td>1</td>\n",
       "    </tr>\n",
       "    <tr>\n",
       "      <th>8</th>\n",
       "      <td>0</td>\n",
       "      <td>0</td>\n",
       "    </tr>\n",
       "    <tr>\n",
       "      <th>9</th>\n",
       "      <td>1</td>\n",
       "      <td>1</td>\n",
       "    </tr>\n",
       "  </tbody>\n",
       "</table>\n",
       "</div>"
      ],
      "text/plain": [
       "   Prediction  Actual\n",
       "0           1       0\n",
       "1           1       1\n",
       "2           0       0\n",
       "3           0       0\n",
       "4           0       0\n",
       "5           1       0\n",
       "6           0       0\n",
       "7           0       1\n",
       "8           0       0\n",
       "9           1       1"
      ]
     },
     "execution_count": 4832,
     "metadata": {},
     "output_type": "execute_result"
    }
   ],
   "source": [
    "# Create predictions\n",
    "knn_testing_predictions = knn_model.predict(X_test)\n",
    "# Printing DataFrame of Actual and Predicted results\n",
    "knn_results = pd.DataFrame({\"Prediction\": knn_testing_predictions, \"Actual\": y_test}).reset_index(drop=True)\n",
    "knn_results.head(10)"
   ]
  },
  {
   "attachments": {},
   "cell_type": "markdown",
   "metadata": {},
   "source": [
    "### Model Evaluation"
   ]
  },
  {
   "cell_type": "code",
   "execution_count": 4833,
   "metadata": {},
   "outputs": [],
   "source": [
    "# Create and save the confusion matrix for the testing data\n",
    "knn_test_matrix = confusion_matrix(y_test, knn_testing_predictions)\n",
    "knn_df = pd.DataFrame(\n",
    "    knn_test_matrix, index=[\"Actual 0\", \"Actual 1\"], columns=[\"Predicted 0\", \"Predicted 1\"]\n",
    ")\n",
    "\n",
    "# Calculating the accuracy score\n",
    "knn_acc_score = accuracy_score(y_test, knn_testing_predictions)"
   ]
  },
  {
   "cell_type": "code",
   "execution_count": 4834,
   "metadata": {},
   "outputs": [
    {
     "name": "stdout",
     "output_type": "stream",
     "text": [
      "Confusion Matrix\n"
     ]
    },
    {
     "data": {
      "text/html": [
       "<div>\n",
       "<style scoped>\n",
       "    .dataframe tbody tr th:only-of-type {\n",
       "        vertical-align: middle;\n",
       "    }\n",
       "\n",
       "    .dataframe tbody tr th {\n",
       "        vertical-align: top;\n",
       "    }\n",
       "\n",
       "    .dataframe thead th {\n",
       "        text-align: right;\n",
       "    }\n",
       "</style>\n",
       "<table border=\"1\" class=\"dataframe\">\n",
       "  <thead>\n",
       "    <tr style=\"text-align: right;\">\n",
       "      <th></th>\n",
       "      <th>Predicted 0</th>\n",
       "      <th>Predicted 1</th>\n",
       "    </tr>\n",
       "  </thead>\n",
       "  <tbody>\n",
       "    <tr>\n",
       "      <th>Actual 0</th>\n",
       "      <td>19</td>\n",
       "      <td>16</td>\n",
       "    </tr>\n",
       "    <tr>\n",
       "      <th>Actual 1</th>\n",
       "      <td>13</td>\n",
       "      <td>28</td>\n",
       "    </tr>\n",
       "  </tbody>\n",
       "</table>\n",
       "</div>"
      ],
      "text/plain": [
       "          Predicted 0  Predicted 1\n",
       "Actual 0           19           16\n",
       "Actual 1           13           28"
      ]
     },
     "metadata": {},
     "output_type": "display_data"
    },
    {
     "name": "stdout",
     "output_type": "stream",
     "text": [
      "Accuracy Score : 0.618421052631579\n",
      "Classification Report\n",
      "              precision    recall  f1-score   support\n",
      "\n",
      "           0       0.59      0.54      0.57        35\n",
      "           1       0.64      0.68      0.66        41\n",
      "\n",
      "    accuracy                           0.62        76\n",
      "   macro avg       0.62      0.61      0.61        76\n",
      "weighted avg       0.62      0.62      0.62        76\n",
      "\n"
     ]
    }
   ],
   "source": [
    "# Displaying results\n",
    "print(\"Confusion Matrix\")\n",
    "display(knn_df)\n",
    "print(f\"Accuracy Score : {knn_acc_score}\")\n",
    "print(\"Classification Report\")\n",
    "print(classification_report(y_test, knn_testing_predictions))"
   ]
  },
  {
   "attachments": {},
   "cell_type": "markdown",
   "metadata": {},
   "source": [
    "## Support Vector Machine Linear Classifier"
   ]
  },
  {
   "attachments": {},
   "cell_type": "markdown",
   "metadata": {},
   "source": [
    "### Fitting the SVM Model"
   ]
  },
  {
   "cell_type": "code",
   "execution_count": 4835,
   "metadata": {},
   "outputs": [],
   "source": [
    "# Instantiate the SVM linear classifier\n",
    "svm_model = SVC(kernel='linear', random_state=1)"
   ]
  },
  {
   "cell_type": "code",
   "execution_count": 4836,
   "metadata": {},
   "outputs": [
    {
     "data": {
      "text/plain": [
       "SVC(C=1.0, break_ties=False, cache_size=200, class_weight=None, coef0=0.0,\n",
       "    decision_function_shape='ovr', degree=3, gamma='scale', kernel='linear',\n",
       "    max_iter=-1, probability=False, random_state=1, shrinking=True, tol=0.001,\n",
       "    verbose=False)"
      ]
     },
     "execution_count": 4836,
     "metadata": {},
     "output_type": "execute_result"
    }
   ],
   "source": [
    "# Train the model\n",
    "svm_model.fit(X_train, y_train)"
   ]
  },
  {
   "attachments": {},
   "cell_type": "markdown",
   "metadata": {},
   "source": [
    "### Making Predictions Using the SVM Model"
   ]
  },
  {
   "cell_type": "code",
   "execution_count": 4837,
   "metadata": {},
   "outputs": [
    {
     "data": {
      "text/html": [
       "<div>\n",
       "<style scoped>\n",
       "    .dataframe tbody tr th:only-of-type {\n",
       "        vertical-align: middle;\n",
       "    }\n",
       "\n",
       "    .dataframe tbody tr th {\n",
       "        vertical-align: top;\n",
       "    }\n",
       "\n",
       "    .dataframe thead th {\n",
       "        text-align: right;\n",
       "    }\n",
       "</style>\n",
       "<table border=\"1\" class=\"dataframe\">\n",
       "  <thead>\n",
       "    <tr style=\"text-align: right;\">\n",
       "      <th></th>\n",
       "      <th>Prediction</th>\n",
       "      <th>Actual</th>\n",
       "    </tr>\n",
       "  </thead>\n",
       "  <tbody>\n",
       "    <tr>\n",
       "      <th>0</th>\n",
       "      <td>0</td>\n",
       "      <td>0</td>\n",
       "    </tr>\n",
       "    <tr>\n",
       "      <th>1</th>\n",
       "      <td>1</td>\n",
       "      <td>1</td>\n",
       "    </tr>\n",
       "    <tr>\n",
       "      <th>2</th>\n",
       "      <td>0</td>\n",
       "      <td>0</td>\n",
       "    </tr>\n",
       "    <tr>\n",
       "      <th>3</th>\n",
       "      <td>0</td>\n",
       "      <td>0</td>\n",
       "    </tr>\n",
       "    <tr>\n",
       "      <th>4</th>\n",
       "      <td>0</td>\n",
       "      <td>0</td>\n",
       "    </tr>\n",
       "    <tr>\n",
       "      <th>5</th>\n",
       "      <td>0</td>\n",
       "      <td>0</td>\n",
       "    </tr>\n",
       "    <tr>\n",
       "      <th>6</th>\n",
       "      <td>0</td>\n",
       "      <td>0</td>\n",
       "    </tr>\n",
       "    <tr>\n",
       "      <th>7</th>\n",
       "      <td>1</td>\n",
       "      <td>1</td>\n",
       "    </tr>\n",
       "    <tr>\n",
       "      <th>8</th>\n",
       "      <td>0</td>\n",
       "      <td>0</td>\n",
       "    </tr>\n",
       "    <tr>\n",
       "      <th>9</th>\n",
       "      <td>1</td>\n",
       "      <td>1</td>\n",
       "    </tr>\n",
       "  </tbody>\n",
       "</table>\n",
       "</div>"
      ],
      "text/plain": [
       "   Prediction  Actual\n",
       "0           0       0\n",
       "1           1       1\n",
       "2           0       0\n",
       "3           0       0\n",
       "4           0       0\n",
       "5           0       0\n",
       "6           0       0\n",
       "7           1       1\n",
       "8           0       0\n",
       "9           1       1"
      ]
     },
     "execution_count": 4837,
     "metadata": {},
     "output_type": "execute_result"
    }
   ],
   "source": [
    "# Create predictions\n",
    "svm_testing_predictions = svm_model.predict(X_test)\n",
    "# Printing DataFrame of Actual and Predicted results\n",
    "svm_results = pd.DataFrame({\"Prediction\": svm_testing_predictions, \"Actual\": y_test}).reset_index(drop=True)\n",
    "svm_results.head(10)\n"
   ]
  },
  {
   "attachments": {},
   "cell_type": "markdown",
   "metadata": {},
   "source": [
    "### Model Evaluation"
   ]
  },
  {
   "cell_type": "code",
   "execution_count": 4838,
   "metadata": {},
   "outputs": [],
   "source": [
    "# Create and save the confusion matrix for the testing data\n",
    "svm_test_matrix = confusion_matrix(y_test, svm_testing_predictions)\n",
    "svm_df = pd.DataFrame(\n",
    "    svm_test_matrix, index=[\"Actual 0\", \"Actual 1\"], columns=[\"Predicted 0\", \"Predicted 1\"]\n",
    ")\n",
    "\n",
    "# Calculating the accuracy score\n",
    "svm_acc_score = accuracy_score(y_test, svm_testing_predictions)"
   ]
  },
  {
   "cell_type": "code",
   "execution_count": 4839,
   "metadata": {},
   "outputs": [
    {
     "name": "stdout",
     "output_type": "stream",
     "text": [
      "Confusion Matrix\n"
     ]
    },
    {
     "data": {
      "text/html": [
       "<div>\n",
       "<style scoped>\n",
       "    .dataframe tbody tr th:only-of-type {\n",
       "        vertical-align: middle;\n",
       "    }\n",
       "\n",
       "    .dataframe tbody tr th {\n",
       "        vertical-align: top;\n",
       "    }\n",
       "\n",
       "    .dataframe thead th {\n",
       "        text-align: right;\n",
       "    }\n",
       "</style>\n",
       "<table border=\"1\" class=\"dataframe\">\n",
       "  <thead>\n",
       "    <tr style=\"text-align: right;\">\n",
       "      <th></th>\n",
       "      <th>Predicted 0</th>\n",
       "      <th>Predicted 1</th>\n",
       "    </tr>\n",
       "  </thead>\n",
       "  <tbody>\n",
       "    <tr>\n",
       "      <th>Actual 0</th>\n",
       "      <td>25</td>\n",
       "      <td>10</td>\n",
       "    </tr>\n",
       "    <tr>\n",
       "      <th>Actual 1</th>\n",
       "      <td>5</td>\n",
       "      <td>36</td>\n",
       "    </tr>\n",
       "  </tbody>\n",
       "</table>\n",
       "</div>"
      ],
      "text/plain": [
       "          Predicted 0  Predicted 1\n",
       "Actual 0           25           10\n",
       "Actual 1            5           36"
      ]
     },
     "metadata": {},
     "output_type": "display_data"
    },
    {
     "name": "stdout",
     "output_type": "stream",
     "text": [
      "Accuracy Score : 0.8026315789473685\n",
      "Classification Report\n",
      "              precision    recall  f1-score   support\n",
      "\n",
      "           0       0.83      0.71      0.77        35\n",
      "           1       0.78      0.88      0.83        41\n",
      "\n",
      "    accuracy                           0.80        76\n",
      "   macro avg       0.81      0.80      0.80        76\n",
      "weighted avg       0.81      0.80      0.80        76\n",
      "\n"
     ]
    }
   ],
   "source": [
    "# Displaying results\n",
    "print(\"Confusion Matrix\")\n",
    "display(svm_df)\n",
    "print(f\"Accuracy Score : {svm_acc_score}\")\n",
    "print(\"Classification Report\")\n",
    "print(classification_report(y_test, svm_testing_predictions))"
   ]
  }
 ],
 "metadata": {
  "kernelspec": {
   "display_name": "PythonData",
   "language": "python",
   "name": "python3"
  },
  "language_info": {
   "codemirror_mode": {
    "name": "ipython",
    "version": 3
   },
   "file_extension": ".py",
   "mimetype": "text/x-python",
   "name": "python",
   "nbconvert_exporter": "python",
   "pygments_lexer": "ipython3",
   "version": "3.7.7"
  },
  "orig_nbformat": 4
 },
 "nbformat": 4,
 "nbformat_minor": 2
}
